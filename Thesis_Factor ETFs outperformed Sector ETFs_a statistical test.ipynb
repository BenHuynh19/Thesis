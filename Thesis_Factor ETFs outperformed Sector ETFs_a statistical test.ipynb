{
 "cells": [
  {
   "cell_type": "markdown",
   "metadata": {},
   "source": [
    "Read necessary libraries "
   ]
  },
  {
   "cell_type": "code",
   "execution_count": 1,
   "metadata": {},
   "outputs": [],
   "source": [
    "from matplotlib import pyplot as plt, rcParams, animation\n",
    "import scipy, seaborn as sns, matplotlib\n",
    "from scipy.cluster import hierarchy as hc\n",
    "matplotlib.rc('animation', html='html5')\n",
    "import numpy as np\n",
    "import pandas as pd\n",
    "import matplotlib.pyplot as plt\n",
    "%matplotlib inline\n",
    "%load_ext autoreload\n",
    "%autoreload 2\n",
    "import warnings\n",
    "warnings.filterwarnings(\"ignore\")\n",
    "\n",
    "import ben"
   ]
  },
  {
   "cell_type": "code",
   "execution_count": 2,
   "metadata": {},
   "outputs": [],
   "source": [
    "path = 'data/thesis/'"
   ]
  },
  {
   "cell_type": "markdown",
   "metadata": {},
   "source": [
    "----"
   ]
  },
  {
   "cell_type": "markdown",
   "metadata": {},
   "source": [
    "The purpose of the paper is to compare the performance of the two portfolios: Factor ETFs and Sector ETFs. The study adopts the mean-variance efficiency test, proposed by Basack, Jagannatha, and Sun 2002 (hereafter BJS (2002)) which calculates the difference between variance of a benchmark and a mimicking portfolio in the efficient frontier that has the same expected returns. Thanks to the properties of the BJS test, the market portfolio (refected by the S&P500 index) was also used as a benchmark to be compared with the two mentioned portfolios. "
   ]
  },
  {
   "cell_type": "markdown",
   "metadata": {},
   "source": [
    "### I. Data"
   ]
  },
  {
   "cell_type": "markdown",
   "metadata": {},
   "source": [
    "1. 12 industry ETFs, each industry ETF is a column in a dataframe called \"ind\", these ETFs are designed by BlackRock\n",
    "2. 07 factor ETFs representing factor investing, each strategy is a column in a dataframe called \"factor\", these ETFs are designed by BlackRock\n",
    "3. S&P500 as market index and risk free rate (T-Bill one-month return) as rf"
   ]
  },
  {
   "cell_type": "code",
   "execution_count": 3,
   "metadata": {},
   "outputs": [
    {
     "data": {
      "text/html": [
       "<div>\n",
       "<style scoped>\n",
       "    .dataframe tbody tr th:only-of-type {\n",
       "        vertical-align: middle;\n",
       "    }\n",
       "\n",
       "    .dataframe tbody tr th {\n",
       "        vertical-align: top;\n",
       "    }\n",
       "\n",
       "    .dataframe thead th {\n",
       "        text-align: right;\n",
       "    }\n",
       "</style>\n",
       "<table border=\"1\" class=\"dataframe\">\n",
       "  <thead>\n",
       "    <tr style=\"text-align: right;\">\n",
       "      <th></th>\n",
       "      <th>IDU</th>\n",
       "      <th>IYC</th>\n",
       "      <th>IYF</th>\n",
       "      <th>IYG</th>\n",
       "      <th>IYH</th>\n",
       "      <th>IYJ</th>\n",
       "      <th>IYK</th>\n",
       "      <th>IYM</th>\n",
       "      <th>IYR</th>\n",
       "      <th>IYT</th>\n",
       "      <th>IYW</th>\n",
       "      <th>IYZ</th>\n",
       "    </tr>\n",
       "    <tr>\n",
       "      <th>Date</th>\n",
       "      <th></th>\n",
       "      <th></th>\n",
       "      <th></th>\n",
       "      <th></th>\n",
       "      <th></th>\n",
       "      <th></th>\n",
       "      <th></th>\n",
       "      <th></th>\n",
       "      <th></th>\n",
       "      <th></th>\n",
       "      <th></th>\n",
       "      <th></th>\n",
       "    </tr>\n",
       "  </thead>\n",
       "  <tbody>\n",
       "    <tr>\n",
       "      <th>2020-11</th>\n",
       "      <td>0.017353</td>\n",
       "      <td>0.127923</td>\n",
       "      <td>0.146394</td>\n",
       "      <td>0.177839</td>\n",
       "      <td>0.081918</td>\n",
       "      <td>0.156714</td>\n",
       "      <td>0.127564</td>\n",
       "      <td>0.133710</td>\n",
       "      <td>0.085795</td>\n",
       "      <td>0.118051</td>\n",
       "      <td>0.110713</td>\n",
       "      <td>0.119835</td>\n",
       "    </tr>\n",
       "    <tr>\n",
       "      <th>2020-12</th>\n",
       "      <td>-0.500868</td>\n",
       "      <td>-0.742240</td>\n",
       "      <td>-0.475615</td>\n",
       "      <td>0.066150</td>\n",
       "      <td>0.034975</td>\n",
       "      <td>-0.489512</td>\n",
       "      <td>0.062171</td>\n",
       "      <td>0.028103</td>\n",
       "      <td>0.017704</td>\n",
       "      <td>0.003275</td>\n",
       "      <td>-0.738336</td>\n",
       "      <td>0.013754</td>\n",
       "    </tr>\n",
       "  </tbody>\n",
       "</table>\n",
       "</div>"
      ],
      "text/plain": [
       "              IDU       IYC       IYF       IYG       IYH       IYJ       IYK  \\\n",
       "Date                                                                            \n",
       "2020-11  0.017353  0.127923  0.146394  0.177839  0.081918  0.156714  0.127564   \n",
       "2020-12 -0.500868 -0.742240 -0.475615  0.066150  0.034975 -0.489512  0.062171   \n",
       "\n",
       "              IYM       IYR       IYT       IYW       IYZ  \n",
       "Date                                                       \n",
       "2020-11  0.133710  0.085795  0.118051  0.110713  0.119835  \n",
       "2020-12  0.028103  0.017704  0.003275 -0.738336  0.013754  "
      ]
     },
     "execution_count": 3,
     "metadata": {},
     "output_type": "execute_result"
    }
   ],
   "source": [
    "ind = ben.get_df('sector_return.xlsx', path); ind.tail(2)"
   ]
  },
  {
   "cell_type": "code",
   "execution_count": 4,
   "metadata": {},
   "outputs": [
    {
     "data": {
      "text/plain": [
       "(89, 12)"
      ]
     },
     "execution_count": 4,
     "metadata": {},
     "output_type": "execute_result"
    }
   ],
   "source": [
    "ind.shape"
   ]
  },
  {
   "cell_type": "code",
   "execution_count": 5,
   "metadata": {},
   "outputs": [
    {
     "data": {
      "text/html": [
       "<div>\n",
       "<style scoped>\n",
       "    .dataframe tbody tr th:only-of-type {\n",
       "        vertical-align: middle;\n",
       "    }\n",
       "\n",
       "    .dataframe tbody tr th {\n",
       "        vertical-align: top;\n",
       "    }\n",
       "\n",
       "    .dataframe thead th {\n",
       "        text-align: right;\n",
       "    }\n",
       "</style>\n",
       "<table border=\"1\" class=\"dataframe\">\n",
       "  <thead>\n",
       "    <tr style=\"text-align: right;\">\n",
       "      <th></th>\n",
       "      <th>EEMV</th>\n",
       "      <th>EFAV</th>\n",
       "      <th>MTUM</th>\n",
       "      <th>QUAL</th>\n",
       "      <th>SIZE</th>\n",
       "      <th>USMV</th>\n",
       "      <th>VLUE</th>\n",
       "    </tr>\n",
       "    <tr>\n",
       "      <th>Date</th>\n",
       "      <th></th>\n",
       "      <th></th>\n",
       "      <th></th>\n",
       "      <th></th>\n",
       "      <th></th>\n",
       "      <th></th>\n",
       "      <th></th>\n",
       "    </tr>\n",
       "  </thead>\n",
       "  <tbody>\n",
       "    <tr>\n",
       "      <th>2020-11</th>\n",
       "      <td>0.075328</td>\n",
       "      <td>0.087952</td>\n",
       "      <td>0.106281</td>\n",
       "      <td>0.112914</td>\n",
       "      <td>0.143132</td>\n",
       "      <td>0.080928</td>\n",
       "      <td>0.164269</td>\n",
       "    </tr>\n",
       "    <tr>\n",
       "      <th>2020-12</th>\n",
       "      <td>0.049445</td>\n",
       "      <td>0.030316</td>\n",
       "      <td>0.034305</td>\n",
       "      <td>0.036972</td>\n",
       "      <td>0.042422</td>\n",
       "      <td>0.022990</td>\n",
       "      <td>0.029008</td>\n",
       "    </tr>\n",
       "  </tbody>\n",
       "</table>\n",
       "</div>"
      ],
      "text/plain": [
       "             EEMV      EFAV      MTUM      QUAL      SIZE      USMV      VLUE\n",
       "Date                                                                         \n",
       "2020-11  0.075328  0.087952  0.106281  0.112914  0.143132  0.080928  0.164269\n",
       "2020-12  0.049445  0.030316  0.034305  0.036972  0.042422  0.022990  0.029008"
      ]
     },
     "execution_count": 5,
     "metadata": {},
     "output_type": "execute_result"
    }
   ],
   "source": [
    "factor = ben.get_df('factor_return.xlsx', path); factor.tail(2)"
   ]
  },
  {
   "cell_type": "code",
   "execution_count": 6,
   "metadata": {},
   "outputs": [
    {
     "data": {
      "text/plain": [
       "(89, 7)"
      ]
     },
     "execution_count": 6,
     "metadata": {},
     "output_type": "execute_result"
    }
   ],
   "source": [
    "factor.shape"
   ]
  },
  {
   "cell_type": "code",
   "execution_count": 7,
   "metadata": {},
   "outputs": [
    {
     "data": {
      "text/html": [
       "<div>\n",
       "<style scoped>\n",
       "    .dataframe tbody tr th:only-of-type {\n",
       "        vertical-align: middle;\n",
       "    }\n",
       "\n",
       "    .dataframe tbody tr th {\n",
       "        vertical-align: top;\n",
       "    }\n",
       "\n",
       "    .dataframe thead th {\n",
       "        text-align: right;\n",
       "    }\n",
       "</style>\n",
       "<table border=\"1\" class=\"dataframe\">\n",
       "  <thead>\n",
       "    <tr style=\"text-align: right;\">\n",
       "      <th></th>\n",
       "      <th>Risk free</th>\n",
       "      <th>Market return</th>\n",
       "    </tr>\n",
       "    <tr>\n",
       "      <th>Date</th>\n",
       "      <th></th>\n",
       "      <th></th>\n",
       "    </tr>\n",
       "  </thead>\n",
       "  <tbody>\n",
       "    <tr>\n",
       "      <th>2013-08</th>\n",
       "      <td>0.000009</td>\n",
       "      <td>-0.031298</td>\n",
       "    </tr>\n",
       "    <tr>\n",
       "      <th>2013-09</th>\n",
       "      <td>0.000008</td>\n",
       "      <td>0.029749</td>\n",
       "    </tr>\n",
       "  </tbody>\n",
       "</table>\n",
       "</div>"
      ],
      "text/plain": [
       "         Risk free  Market return\n",
       "Date                             \n",
       "2013-08   0.000009      -0.031298\n",
       "2013-09   0.000008       0.029749"
      ]
     },
     "execution_count": 7,
     "metadata": {},
     "output_type": "execute_result"
    }
   ],
   "source": [
    "market_rf = ben.get_df_excel('sp500.xlsx', path); market_rf.head(2)"
   ]
  },
  {
   "cell_type": "code",
   "execution_count": 8,
   "metadata": {},
   "outputs": [
    {
     "data": {
      "text/plain": [
       "(89, 2)"
      ]
     },
     "execution_count": 8,
     "metadata": {},
     "output_type": "execute_result"
    }
   ],
   "source": [
    "market_rf.shape"
   ]
  },
  {
   "cell_type": "code",
   "execution_count": 9,
   "metadata": {},
   "outputs": [
    {
     "data": {
      "text/plain": [
       "(0.009845607748314607, 0.04023132413238701)"
      ]
     },
     "execution_count": 9,
     "metadata": {},
     "output_type": "execute_result"
    }
   ],
   "source": [
    "mar_ret = market_rf['Market return'].mean()\n",
    "mar_vol = market_rf['Market return'].std()\n",
    "market = (mar_ret, mar_vol)\n",
    "market"
   ]
  },
  {
   "cell_type": "code",
   "execution_count": 10,
   "metadata": {},
   "outputs": [
    {
     "data": {
      "text/plain": [
       "0.0005907303370786517"
      ]
     },
     "execution_count": 10,
     "metadata": {},
     "output_type": "execute_result"
    }
   ],
   "source": [
    "rf = market_rf['Risk free'].mean()\n",
    "rf"
   ]
  },
  {
   "cell_type": "markdown",
   "metadata": {},
   "source": [
    "### II. Optimizing portfolio with the two approaches"
   ]
  },
  {
   "cell_type": "markdown",
   "metadata": {},
   "source": [
    "The study closely follows procedures prescrided by Ehling and Ramos (2006) in comparing directly two diversified portfolios. Specifically, the two set of ETFs will be optimized to construct two efficient frontiers. This step will serve dual purposes: to anchor as a reference frontier and to pick two explicit points (GMV and tangency) as benchmarks. Next, the measure of efficiency ($\\lambda$) will be calculated by solving the optimizing problem (P). Lastly, the BJS 2002 will be performed to consider the statistical significances of the results."
   ]
  },
  {
   "cell_type": "markdown",
   "metadata": {},
   "source": [
    "#### Efficient frontier comprising of industry indexes"
   ]
  },
  {
   "cell_type": "code",
   "execution_count": 11,
   "metadata": {},
   "outputs": [],
   "source": [
    "ind_er = ind.mean()\n",
    "ind_cov = ind.cov()"
   ]
  },
  {
   "cell_type": "code",
   "execution_count": 12,
   "metadata": {},
   "outputs": [
    {
     "data": {
      "text/plain": [
       "<matplotlib.axes._subplots.AxesSubplot at 0x19fb0682f60>"
      ]
     },
     "execution_count": 12,
     "metadata": {},
     "output_type": "execute_result"
    },
    {
     "data": {
      "image/png": "[encoded data removed]",
      "text/plain": [
       "<Figure size 432x288 with 1 Axes>"
      ]
     },
     "metadata": {
      "needs_background": "light"
     },
     "output_type": "display_data"
    }
   ],
   "source": [
    "ben.plot_ef(ind_er, ind_cov, title='Industry Efficient Frontier',\n",
    "            riskfree_rate=rf, show_cml=True, show_gmv=True)"
   ]
  },
  {
   "cell_type": "code",
   "execution_count": 13,
   "metadata": {},
   "outputs": [
    {
     "data": {
      "text/plain": [
       "(0.005970768463534384, 0.033953219749743344)"
      ]
     },
     "execution_count": 13,
     "metadata": {},
     "output_type": "execute_result"
    }
   ],
   "source": [
    "ind_gmv = ben.port_gmv(ind_er, ind_cov) # global min. var. portfolio return and vol.\n",
    "ind_gmv"
   ]
  },
  {
   "cell_type": "code",
   "execution_count": 14,
   "metadata": {},
   "outputs": [
    {
     "data": {
      "text/plain": [
       "(0.009780220582153692, 0.03869415408690239)"
      ]
     },
     "execution_count": 14,
     "metadata": {},
     "output_type": "execute_result"
    }
   ],
   "source": [
    "ind_tangency = ben.port_tangency(rf, ind_er, ind_cov) # Tangency portfolio return and vol.\n",
    "ind_tangency"
   ]
  },
  {
   "cell_type": "markdown",
   "metadata": {},
   "source": [
    "#### Efficient frontier comprising of factors"
   ]
  },
  {
   "cell_type": "code",
   "execution_count": 15,
   "metadata": {},
   "outputs": [],
   "source": [
    "factor_er = factor.mean()\n",
    "factor_cov = factor.cov()"
   ]
  },
  {
   "cell_type": "code",
   "execution_count": 16,
   "metadata": {},
   "outputs": [
    {
     "data": {
      "text/plain": [
       "<matplotlib.axes._subplots.AxesSubplot at 0x19fb074d828>"
      ]
     },
     "execution_count": 16,
     "metadata": {},
     "output_type": "execute_result"
    },
    {
     "data": {
      "image/png": "[encoded data removed]",
      "text/plain": [
       "<Figure size 432x288 with 1 Axes>"
      ]
     },
     "metadata": {
      "needs_background": "light"
     },
     "output_type": "display_data"
    }
   ],
   "source": [
    "ben.plot_ef(factor_er, factor_cov, title='Factors Efficient frontier',\n",
    "                       riskfree_rate=rf, show_cml=True, show_gmv=True)"
   ]
  },
  {
   "cell_type": "code",
   "execution_count": 17,
   "metadata": {},
   "outputs": [
    {
     "data": {
      "text/plain": [
       "(0.006974897020265774, 0.029321298642050703)"
      ]
     },
     "execution_count": 17,
     "metadata": {},
     "output_type": "execute_result"
    }
   ],
   "source": [
    "factor_gmv = ben.port_gmv(factor_er, factor_cov) # global min. var. portfolio return and vol.\n",
    "factor_gmv"
   ]
  },
  {
   "cell_type": "code",
   "execution_count": 18,
   "metadata": {},
   "outputs": [
    {
     "data": {
      "text/plain": [
       "(0.0140006627475656, 0.04018024505697719)"
      ]
     },
     "execution_count": 18,
     "metadata": {},
     "output_type": "execute_result"
    }
   ],
   "source": [
    "factor_tangency = ben.port_tangency(rf, factor_er, factor_cov) #Tangency port. return and vol.\n",
    "factor_tangency"
   ]
  },
  {
   "cell_type": "markdown",
   "metadata": {},
   "source": [
    "#### Industry efficient frontier compared with factor's benchmarks"
   ]
  },
  {
   "cell_type": "code",
   "execution_count": 19,
   "metadata": {},
   "outputs": [
    {
     "data": {
      "text/plain": [
       "<matplotlib.axes._subplots.AxesSubplot at 0x19fb0810780>"
      ]
     },
     "execution_count": 19,
     "metadata": {},
     "output_type": "execute_result"
    },
    {
     "data": {
      "image/png": "[encoded data removed]",
      "text/plain": [
       "<Figure size 432x288 with 1 Axes>"
      ]
     },
     "metadata": {
      "needs_background": "light"
     },
     "output_type": "display_data"
    }
   ],
   "source": [
    "ben.plot_ef_with_bm(ind_er, ind_cov, factor_tangency, n_points=30,\n",
    "                    title='Industry Efficient Frontier with factor tangency portfolio',\n",
    "                    riskfree_rate=rf, show_bm=True)"
   ]
  },
  {
   "cell_type": "markdown",
   "metadata": {},
   "source": [
    "#### ==> The efficient frontier can not attain the same level of return as the benchmark"
   ]
  },
  {
   "cell_type": "markdown",
   "metadata": {},
   "source": [
    "----"
   ]
  },
  {
   "cell_type": "code",
   "execution_count": 20,
   "metadata": {},
   "outputs": [
    {
     "data": {
      "text/plain": [
       "<matplotlib.axes._subplots.AxesSubplot at 0x19fb07e5438>"
      ]
     },
     "execution_count": 20,
     "metadata": {},
     "output_type": "execute_result"
    },
    {
     "data": {
      "image/png": "[encoded data removed]",
      "text/plain": [
       "<Figure size 432x288 with 1 Axes>"
      ]
     },
     "metadata": {
      "needs_background": "light"
     },
     "output_type": "display_data"
    }
   ],
   "source": [
    "ben.plot_ef_with_bm(ind_er, ind_cov, factor_gmv, n_points=30, \n",
    "                    title='Industry Efficient Frontier with Factor GMV portfolio',\n",
    "                    riskfree_rate=rf, show_bm=True, show_ef_point=True)"
   ]
  },
  {
   "cell_type": "code",
   "execution_count": 21,
   "metadata": {},
   "outputs": [
    {
     "data": {
      "text/html": [
       "<div>\n",
       "<style scoped>\n",
       "    .dataframe tbody tr th:only-of-type {\n",
       "        vertical-align: middle;\n",
       "    }\n",
       "\n",
       "    .dataframe tbody tr th {\n",
       "        vertical-align: top;\n",
       "    }\n",
       "\n",
       "    .dataframe thead th {\n",
       "        text-align: right;\n",
       "    }\n",
       "</style>\n",
       "<table border=\"1\" class=\"dataframe\">\n",
       "  <thead>\n",
       "    <tr style=\"text-align: right;\">\n",
       "      <th></th>\n",
       "      <th>Weight</th>\n",
       "      <th>Return</th>\n",
       "      <th>Vol</th>\n",
       "    </tr>\n",
       "  </thead>\n",
       "  <tbody>\n",
       "    <tr>\n",
       "      <th>0</th>\n",
       "      <td>1.725909e-01</td>\n",
       "      <td>0.006975</td>\n",
       "      <td>0.034171</td>\n",
       "    </tr>\n",
       "    <tr>\n",
       "      <th>1</th>\n",
       "      <td>1.951564e-17</td>\n",
       "      <td>0.006975</td>\n",
       "      <td>0.034171</td>\n",
       "    </tr>\n",
       "    <tr>\n",
       "      <th>2</th>\n",
       "      <td>1.230569e-17</td>\n",
       "      <td>0.006975</td>\n",
       "      <td>0.034171</td>\n",
       "    </tr>\n",
       "    <tr>\n",
       "      <th>3</th>\n",
       "      <td>0.000000e+00</td>\n",
       "      <td>0.006975</td>\n",
       "      <td>0.034171</td>\n",
       "    </tr>\n",
       "    <tr>\n",
       "      <th>4</th>\n",
       "      <td>4.345866e-01</td>\n",
       "      <td>0.006975</td>\n",
       "      <td>0.034171</td>\n",
       "    </tr>\n",
       "    <tr>\n",
       "      <th>5</th>\n",
       "      <td>0.000000e+00</td>\n",
       "      <td>0.006975</td>\n",
       "      <td>0.034171</td>\n",
       "    </tr>\n",
       "    <tr>\n",
       "      <th>6</th>\n",
       "      <td>2.854774e-01</td>\n",
       "      <td>0.006975</td>\n",
       "      <td>0.034171</td>\n",
       "    </tr>\n",
       "    <tr>\n",
       "      <th>7</th>\n",
       "      <td>0.000000e+00</td>\n",
       "      <td>0.006975</td>\n",
       "      <td>0.034171</td>\n",
       "    </tr>\n",
       "    <tr>\n",
       "      <th>8</th>\n",
       "      <td>0.000000e+00</td>\n",
       "      <td>0.006975</td>\n",
       "      <td>0.034171</td>\n",
       "    </tr>\n",
       "    <tr>\n",
       "      <th>9</th>\n",
       "      <td>4.336809e-18</td>\n",
       "      <td>0.006975</td>\n",
       "      <td>0.034171</td>\n",
       "    </tr>\n",
       "    <tr>\n",
       "      <th>10</th>\n",
       "      <td>0.000000e+00</td>\n",
       "      <td>0.006975</td>\n",
       "      <td>0.034171</td>\n",
       "    </tr>\n",
       "    <tr>\n",
       "      <th>11</th>\n",
       "      <td>1.073451e-01</td>\n",
       "      <td>0.006975</td>\n",
       "      <td>0.034171</td>\n",
       "    </tr>\n",
       "  </tbody>\n",
       "</table>\n",
       "</div>"
      ],
      "text/plain": [
       "          Weight    Return       Vol\n",
       "0   1.725909e-01  0.006975  0.034171\n",
       "1   1.951564e-17  0.006975  0.034171\n",
       "2   1.230569e-17  0.006975  0.034171\n",
       "3   0.000000e+00  0.006975  0.034171\n",
       "4   4.345866e-01  0.006975  0.034171\n",
       "5   0.000000e+00  0.006975  0.034171\n",
       "6   2.854774e-01  0.006975  0.034171\n",
       "7   0.000000e+00  0.006975  0.034171\n",
       "8   0.000000e+00  0.006975  0.034171\n",
       "9   4.336809e-18  0.006975  0.034171\n",
       "10  0.000000e+00  0.006975  0.034171\n",
       "11  1.073451e-01  0.006975  0.034171"
      ]
     },
     "execution_count": 21,
     "metadata": {},
     "output_type": "execute_result"
    }
   ],
   "source": [
    "p_ind_gmv = ben.spotting_p(factor_gmv, ind_er, ind_cov)\n",
    "p_ind_gmv"
   ]
  },
  {
   "cell_type": "code",
   "execution_count": 22,
   "metadata": {},
   "outputs": [
    {
     "data": {
      "text/plain": [
       "(0.006974897020265774, 0.029321298642050703)"
      ]
     },
     "execution_count": 22,
     "metadata": {},
     "output_type": "execute_result"
    }
   ],
   "source": [
    "factor_gmv"
   ]
  },
  {
   "cell_type": "code",
   "execution_count": 41,
   "metadata": {},
   "outputs": [
    {
     "data": {
      "text/plain": [
       "0.004849381969730931"
      ]
     },
     "execution_count": 41,
     "metadata": {},
     "output_type": "execute_result"
    }
   ],
   "source": [
    "# lambda\n",
    "ind_ef_gmv = p_ind_gmv['Vol'][0] - factor_gmv[1]\n",
    "ind_ef_gmv"
   ]
  },
  {
   "cell_type": "markdown",
   "metadata": {},
   "source": [
    "----"
   ]
  },
  {
   "cell_type": "code",
   "execution_count": 23,
   "metadata": {},
   "outputs": [
    {
     "data": {
      "text/plain": [
       "<matplotlib.axes._subplots.AxesSubplot at 0x19fb08f1fd0>"
      ]
     },
     "execution_count": 23,
     "metadata": {},
     "output_type": "execute_result"
    },
    {
     "data": {
      "image/png": "[encoded data removed]",
      "text/plain": [
       "<Figure size 432x288 with 1 Axes>"
      ]
     },
     "metadata": {
      "needs_background": "light"
     },
     "output_type": "display_data"
    }
   ],
   "source": [
    "# with weights range from 0 to 1\n",
    "ben.plot_ef_with_bm(ind_er, ind_cov, market, n_points=30, \n",
    "                    title='Industry Efficient Frontier with S&P500',\n",
    "                    riskfree_rate=rf, show_bm=True, show_ef_point=True)"
   ]
  },
  {
   "cell_type": "code",
   "execution_count": 24,
   "metadata": {},
   "outputs": [
    {
     "data": {
      "text/html": [
       "<div>\n",
       "<style scoped>\n",
       "    .dataframe tbody tr th:only-of-type {\n",
       "        vertical-align: middle;\n",
       "    }\n",
       "\n",
       "    .dataframe tbody tr th {\n",
       "        vertical-align: top;\n",
       "    }\n",
       "\n",
       "    .dataframe thead th {\n",
       "        text-align: right;\n",
       "    }\n",
       "</style>\n",
       "<table border=\"1\" class=\"dataframe\">\n",
       "  <thead>\n",
       "    <tr style=\"text-align: right;\">\n",
       "      <th></th>\n",
       "      <th>Weight</th>\n",
       "      <th>Return</th>\n",
       "      <th>Vol</th>\n",
       "    </tr>\n",
       "  </thead>\n",
       "  <tbody>\n",
       "    <tr>\n",
       "      <th>0</th>\n",
       "      <td>9.697809e-18</td>\n",
       "      <td>0.009846</td>\n",
       "      <td>0.038984</td>\n",
       "    </tr>\n",
       "    <tr>\n",
       "      <th>1</th>\n",
       "      <td>0.000000e+00</td>\n",
       "      <td>0.009846</td>\n",
       "      <td>0.038984</td>\n",
       "    </tr>\n",
       "    <tr>\n",
       "      <th>2</th>\n",
       "      <td>3.581175e-18</td>\n",
       "      <td>0.009846</td>\n",
       "      <td>0.038984</td>\n",
       "    </tr>\n",
       "    <tr>\n",
       "      <th>3</th>\n",
       "      <td>0.000000e+00</td>\n",
       "      <td>0.009846</td>\n",
       "      <td>0.038984</td>\n",
       "    </tr>\n",
       "    <tr>\n",
       "      <th>4</th>\n",
       "      <td>8.309356e-01</td>\n",
       "      <td>0.009846</td>\n",
       "      <td>0.038984</td>\n",
       "    </tr>\n",
       "    <tr>\n",
       "      <th>5</th>\n",
       "      <td>6.253531e-18</td>\n",
       "      <td>0.009846</td>\n",
       "      <td>0.038984</td>\n",
       "    </tr>\n",
       "    <tr>\n",
       "      <th>6</th>\n",
       "      <td>1.308725e-01</td>\n",
       "      <td>0.009846</td>\n",
       "      <td>0.038984</td>\n",
       "    </tr>\n",
       "    <tr>\n",
       "      <th>7</th>\n",
       "      <td>0.000000e+00</td>\n",
       "      <td>0.009846</td>\n",
       "      <td>0.038984</td>\n",
       "    </tr>\n",
       "    <tr>\n",
       "      <th>8</th>\n",
       "      <td>2.105391e-18</td>\n",
       "      <td>0.009846</td>\n",
       "      <td>0.038984</td>\n",
       "    </tr>\n",
       "    <tr>\n",
       "      <th>9</th>\n",
       "      <td>5.108008e-18</td>\n",
       "      <td>0.009846</td>\n",
       "      <td>0.038984</td>\n",
       "    </tr>\n",
       "    <tr>\n",
       "      <th>10</th>\n",
       "      <td>3.819184e-02</td>\n",
       "      <td>0.009846</td>\n",
       "      <td>0.038984</td>\n",
       "    </tr>\n",
       "    <tr>\n",
       "      <th>11</th>\n",
       "      <td>0.000000e+00</td>\n",
       "      <td>0.009846</td>\n",
       "      <td>0.038984</td>\n",
       "    </tr>\n",
       "  </tbody>\n",
       "</table>\n",
       "</div>"
      ],
      "text/plain": [
       "          Weight    Return       Vol\n",
       "0   9.697809e-18  0.009846  0.038984\n",
       "1   0.000000e+00  0.009846  0.038984\n",
       "2   3.581175e-18  0.009846  0.038984\n",
       "3   0.000000e+00  0.009846  0.038984\n",
       "4   8.309356e-01  0.009846  0.038984\n",
       "5   6.253531e-18  0.009846  0.038984\n",
       "6   1.308725e-01  0.009846  0.038984\n",
       "7   0.000000e+00  0.009846  0.038984\n",
       "8   2.105391e-18  0.009846  0.038984\n",
       "9   5.108008e-18  0.009846  0.038984\n",
       "10  3.819184e-02  0.009846  0.038984\n",
       "11  0.000000e+00  0.009846  0.038984"
      ]
     },
     "execution_count": 24,
     "metadata": {},
     "output_type": "execute_result"
    }
   ],
   "source": [
    "p_ind_sp500 = ben.spotting_p(market, ind_er, ind_cov)\n",
    "p_ind_sp500"
   ]
  },
  {
   "cell_type": "code",
   "execution_count": 25,
   "metadata": {},
   "outputs": [
    {
     "data": {
      "text/plain": [
       "(0.009845607748314607, 0.04023132413238701)"
      ]
     },
     "execution_count": 25,
     "metadata": {},
     "output_type": "execute_result"
    }
   ],
   "source": [
    "market"
   ]
  },
  {
   "cell_type": "code",
   "execution_count": 42,
   "metadata": {},
   "outputs": [
    {
     "data": {
      "text/plain": [
       "-0.001247012078153309"
      ]
     },
     "execution_count": 42,
     "metadata": {},
     "output_type": "execute_result"
    }
   ],
   "source": [
    "# lambda\n",
    "ind_ef_market = p_ind_sp500['Vol'][0] - market[1]\n",
    "ind_ef_market"
   ]
  },
  {
   "cell_type": "markdown",
   "metadata": {},
   "source": [
    "The S&P500 lies almost in the efficient frontier of industry ETFs"
   ]
  },
  {
   "cell_type": "markdown",
   "metadata": {},
   "source": [
    "----"
   ]
  },
  {
   "cell_type": "markdown",
   "metadata": {},
   "source": [
    "#### Industry as benchmark in the factor efficient frontier\n"
   ]
  },
  {
   "cell_type": "code",
   "execution_count": 26,
   "metadata": {},
   "outputs": [
    {
     "data": {
      "text/plain": [
       "<matplotlib.axes._subplots.AxesSubplot at 0x19fb0889208>"
      ]
     },
     "execution_count": 26,
     "metadata": {},
     "output_type": "execute_result"
    },
    {
     "data": {
      "image/png": "[encoded data removed]",
      "text/plain": [
       "<Figure size 432x288 with 1 Axes>"
      ]
     },
     "metadata": {
      "needs_background": "light"
     },
     "output_type": "display_data"
    }
   ],
   "source": [
    "# weights range from 0 to 1\n",
    "ben.plot_ef_with_bm(factor_er, factor_cov, ind_tangency,\n",
    "                    title='Factor efficient frontier with Industry tangency portfolio',\n",
    "                    n_points=30, riskfree_rate=rf, show_bm=True, show_ef_point=True)"
   ]
  },
  {
   "cell_type": "code",
   "execution_count": 27,
   "metadata": {},
   "outputs": [
    {
     "data": {
      "text/html": [
       "<div>\n",
       "<style scoped>\n",
       "    .dataframe tbody tr th:only-of-type {\n",
       "        vertical-align: middle;\n",
       "    }\n",
       "\n",
       "    .dataframe tbody tr th {\n",
       "        vertical-align: top;\n",
       "    }\n",
       "\n",
       "    .dataframe thead th {\n",
       "        text-align: right;\n",
       "    }\n",
       "</style>\n",
       "<table border=\"1\" class=\"dataframe\">\n",
       "  <thead>\n",
       "    <tr style=\"text-align: right;\">\n",
       "      <th></th>\n",
       "      <th>Weight</th>\n",
       "      <th>Return</th>\n",
       "      <th>Vol</th>\n",
       "    </tr>\n",
       "  </thead>\n",
       "  <tbody>\n",
       "    <tr>\n",
       "      <th>0</th>\n",
       "      <td>0.000000e+00</td>\n",
       "      <td>0.00978</td>\n",
       "      <td>0.031456</td>\n",
       "    </tr>\n",
       "    <tr>\n",
       "      <th>1</th>\n",
       "      <td>1.595335e-01</td>\n",
       "      <td>0.00978</td>\n",
       "      <td>0.031456</td>\n",
       "    </tr>\n",
       "    <tr>\n",
       "      <th>2</th>\n",
       "      <td>9.349669e-02</td>\n",
       "      <td>0.00978</td>\n",
       "      <td>0.031456</td>\n",
       "    </tr>\n",
       "    <tr>\n",
       "      <th>3</th>\n",
       "      <td>0.000000e+00</td>\n",
       "      <td>0.00978</td>\n",
       "      <td>0.031456</td>\n",
       "    </tr>\n",
       "    <tr>\n",
       "      <th>4</th>\n",
       "      <td>0.000000e+00</td>\n",
       "      <td>0.00978</td>\n",
       "      <td>0.031456</td>\n",
       "    </tr>\n",
       "    <tr>\n",
       "      <th>5</th>\n",
       "      <td>7.469698e-01</td>\n",
       "      <td>0.00978</td>\n",
       "      <td>0.031456</td>\n",
       "    </tr>\n",
       "    <tr>\n",
       "      <th>6</th>\n",
       "      <td>3.636291e-17</td>\n",
       "      <td>0.00978</td>\n",
       "      <td>0.031456</td>\n",
       "    </tr>\n",
       "  </tbody>\n",
       "</table>\n",
       "</div>"
      ],
      "text/plain": [
       "         Weight   Return       Vol\n",
       "0  0.000000e+00  0.00978  0.031456\n",
       "1  1.595335e-01  0.00978  0.031456\n",
       "2  9.349669e-02  0.00978  0.031456\n",
       "3  0.000000e+00  0.00978  0.031456\n",
       "4  0.000000e+00  0.00978  0.031456\n",
       "5  7.469698e-01  0.00978  0.031456\n",
       "6  3.636291e-17  0.00978  0.031456"
      ]
     },
     "execution_count": 27,
     "metadata": {},
     "output_type": "execute_result"
    }
   ],
   "source": [
    "p_factor_tan = ben.spotting_p(ind_tangency, factor_er, factor_cov)\n",
    "p_factor_tan"
   ]
  },
  {
   "cell_type": "code",
   "execution_count": 28,
   "metadata": {},
   "outputs": [
    {
     "data": {
      "text/plain": [
       "(0.009780220582153692, 0.03869415408690239)"
      ]
     },
     "execution_count": 28,
     "metadata": {},
     "output_type": "execute_result"
    }
   ],
   "source": [
    "ind_tangency"
   ]
  },
  {
   "cell_type": "code",
   "execution_count": 45,
   "metadata": {},
   "outputs": [
    {
     "data": {
      "text/plain": [
       "-0.0072384811059413925"
      ]
     },
     "execution_count": 45,
     "metadata": {},
     "output_type": "execute_result"
    }
   ],
   "source": [
    "# lambda\n",
    "fac_ef_tan = p_factor_tan['Vol'][0] - ind_tangency[1]\n",
    "fac_ef_tan"
   ]
  },
  {
   "cell_type": "markdown",
   "metadata": {},
   "source": [
    "----"
   ]
  },
  {
   "cell_type": "code",
   "execution_count": 29,
   "metadata": {},
   "outputs": [
    {
     "data": {
      "text/plain": [
       "<matplotlib.axes._subplots.AxesSubplot at 0x19fb09ca550>"
      ]
     },
     "execution_count": 29,
     "metadata": {},
     "output_type": "execute_result"
    },
    {
     "data": {
      "image/png": "[encoded data removed]",
      "text/plain": [
       "<Figure size 432x288 with 1 Axes>"
      ]
     },
     "metadata": {
      "needs_background": "light"
     },
     "output_type": "display_data"
    }
   ],
   "source": [
    "# weights range from 0 to 1\n",
    "ben.plot_ef_with_bm(factor_er, factor_cov, ind_gmv,\n",
    "                    title='Factor efficient frontier with Industry GMV portfolio',\n",
    "                    n_points=30, riskfree_rate=rf, show_bm=True, show_ef_point=True)"
   ]
  },
  {
   "cell_type": "code",
   "execution_count": 30,
   "metadata": {},
   "outputs": [
    {
     "data": {
      "text/html": [
       "<div>\n",
       "<style scoped>\n",
       "    .dataframe tbody tr th:only-of-type {\n",
       "        vertical-align: middle;\n",
       "    }\n",
       "\n",
       "    .dataframe tbody tr th {\n",
       "        vertical-align: top;\n",
       "    }\n",
       "\n",
       "    .dataframe thead th {\n",
       "        text-align: right;\n",
       "    }\n",
       "</style>\n",
       "<table border=\"1\" class=\"dataframe\">\n",
       "  <thead>\n",
       "    <tr style=\"text-align: right;\">\n",
       "      <th></th>\n",
       "      <th>Weight</th>\n",
       "      <th>Return</th>\n",
       "      <th>Vol</th>\n",
       "    </tr>\n",
       "  </thead>\n",
       "  <tbody>\n",
       "    <tr>\n",
       "      <th>0</th>\n",
       "      <td>4.163336e-17</td>\n",
       "      <td>0.005971</td>\n",
       "      <td>0.029617</td>\n",
       "    </tr>\n",
       "    <tr>\n",
       "      <th>1</th>\n",
       "      <td>8.904535e-01</td>\n",
       "      <td>0.005971</td>\n",
       "      <td>0.029617</td>\n",
       "    </tr>\n",
       "    <tr>\n",
       "      <th>2</th>\n",
       "      <td>0.000000e+00</td>\n",
       "      <td>0.005971</td>\n",
       "      <td>0.029617</td>\n",
       "    </tr>\n",
       "    <tr>\n",
       "      <th>3</th>\n",
       "      <td>0.000000e+00</td>\n",
       "      <td>0.005971</td>\n",
       "      <td>0.029617</td>\n",
       "    </tr>\n",
       "    <tr>\n",
       "      <th>4</th>\n",
       "      <td>6.938894e-18</td>\n",
       "      <td>0.005971</td>\n",
       "      <td>0.029617</td>\n",
       "    </tr>\n",
       "    <tr>\n",
       "      <th>5</th>\n",
       "      <td>1.095465e-01</td>\n",
       "      <td>0.005971</td>\n",
       "      <td>0.029617</td>\n",
       "    </tr>\n",
       "    <tr>\n",
       "      <th>6</th>\n",
       "      <td>6.938894e-18</td>\n",
       "      <td>0.005971</td>\n",
       "      <td>0.029617</td>\n",
       "    </tr>\n",
       "  </tbody>\n",
       "</table>\n",
       "</div>"
      ],
      "text/plain": [
       "         Weight    Return       Vol\n",
       "0  4.163336e-17  0.005971  0.029617\n",
       "1  8.904535e-01  0.005971  0.029617\n",
       "2  0.000000e+00  0.005971  0.029617\n",
       "3  0.000000e+00  0.005971  0.029617\n",
       "4  6.938894e-18  0.005971  0.029617\n",
       "5  1.095465e-01  0.005971  0.029617\n",
       "6  6.938894e-18  0.005971  0.029617"
      ]
     },
     "execution_count": 30,
     "metadata": {},
     "output_type": "execute_result"
    }
   ],
   "source": [
    "p_factor_gmv = ben.spotting_p(ind_gmv, factor_er, factor_cov)\n",
    "p_factor_gmv"
   ]
  },
  {
   "cell_type": "code",
   "execution_count": 31,
   "metadata": {},
   "outputs": [
    {
     "data": {
      "text/plain": [
       "(0.005970768463534384, 0.033953219749743344)"
      ]
     },
     "execution_count": 31,
     "metadata": {},
     "output_type": "execute_result"
    }
   ],
   "source": [
    "ind_gmv"
   ]
  },
  {
   "cell_type": "code",
   "execution_count": 43,
   "metadata": {},
   "outputs": [
    {
     "data": {
      "text/plain": [
       "-0.004336186192867554"
      ]
     },
     "execution_count": 43,
     "metadata": {},
     "output_type": "execute_result"
    }
   ],
   "source": [
    "# lambda\n",
    "fac_ef_gmv = p_factor_gmv['Vol'][0] - ind_gmv[1]\n",
    "fac_ef_gmv"
   ]
  },
  {
   "cell_type": "markdown",
   "metadata": {},
   "source": [
    "----"
   ]
  },
  {
   "cell_type": "code",
   "execution_count": 32,
   "metadata": {},
   "outputs": [
    {
     "data": {
      "text/plain": [
       "<matplotlib.axes._subplots.AxesSubplot at 0x19fb0a2c828>"
      ]
     },
     "execution_count": 32,
     "metadata": {},
     "output_type": "execute_result"
    },
    {
     "data": {
      "image/png": "[encoded data removed]",
      "text/plain": [
       "<Figure size 432x288 with 1 Axes>"
      ]
     },
     "metadata": {
      "needs_background": "light"
     },
     "output_type": "display_data"
    }
   ],
   "source": [
    "# weights range from 0 to 1\n",
    "ben.plot_ef_with_bm(factor_er, factor_cov, market,\n",
    "                    title='Factor efficient frontier with S&P500',\n",
    "                    n_points=30, riskfree_rate=rf, show_bm=True, show_ef_point=True)"
   ]
  },
  {
   "cell_type": "code",
   "execution_count": 33,
   "metadata": {},
   "outputs": [
    {
     "data": {
      "text/html": [
       "<div>\n",
       "<style scoped>\n",
       "    .dataframe tbody tr th:only-of-type {\n",
       "        vertical-align: middle;\n",
       "    }\n",
       "\n",
       "    .dataframe tbody tr th {\n",
       "        vertical-align: top;\n",
       "    }\n",
       "\n",
       "    .dataframe thead th {\n",
       "        text-align: right;\n",
       "    }\n",
       "</style>\n",
       "<table border=\"1\" class=\"dataframe\">\n",
       "  <thead>\n",
       "    <tr style=\"text-align: right;\">\n",
       "      <th></th>\n",
       "      <th>Weight</th>\n",
       "      <th>Return</th>\n",
       "      <th>Vol</th>\n",
       "    </tr>\n",
       "  </thead>\n",
       "  <tbody>\n",
       "    <tr>\n",
       "      <th>0</th>\n",
       "      <td>0.000000e+00</td>\n",
       "      <td>0.009846</td>\n",
       "      <td>0.031542</td>\n",
       "    </tr>\n",
       "    <tr>\n",
       "      <th>1</th>\n",
       "      <td>1.516453e-01</td>\n",
       "      <td>0.009846</td>\n",
       "      <td>0.031542</td>\n",
       "    </tr>\n",
       "    <tr>\n",
       "      <th>2</th>\n",
       "      <td>1.005783e-01</td>\n",
       "      <td>0.009846</td>\n",
       "      <td>0.031542</td>\n",
       "    </tr>\n",
       "    <tr>\n",
       "      <th>3</th>\n",
       "      <td>0.000000e+00</td>\n",
       "      <td>0.009846</td>\n",
       "      <td>0.031542</td>\n",
       "    </tr>\n",
       "    <tr>\n",
       "      <th>4</th>\n",
       "      <td>0.000000e+00</td>\n",
       "      <td>0.009846</td>\n",
       "      <td>0.031542</td>\n",
       "    </tr>\n",
       "    <tr>\n",
       "      <th>5</th>\n",
       "      <td>7.477764e-01</td>\n",
       "      <td>0.009846</td>\n",
       "      <td>0.031542</td>\n",
       "    </tr>\n",
       "    <tr>\n",
       "      <th>6</th>\n",
       "      <td>1.804026e-17</td>\n",
       "      <td>0.009846</td>\n",
       "      <td>0.031542</td>\n",
       "    </tr>\n",
       "  </tbody>\n",
       "</table>\n",
       "</div>"
      ],
      "text/plain": [
       "         Weight    Return       Vol\n",
       "0  0.000000e+00  0.009846  0.031542\n",
       "1  1.516453e-01  0.009846  0.031542\n",
       "2  1.005783e-01  0.009846  0.031542\n",
       "3  0.000000e+00  0.009846  0.031542\n",
       "4  0.000000e+00  0.009846  0.031542\n",
       "5  7.477764e-01  0.009846  0.031542\n",
       "6  1.804026e-17  0.009846  0.031542"
      ]
     },
     "execution_count": 33,
     "metadata": {},
     "output_type": "execute_result"
    }
   ],
   "source": [
    "p_factor_sp500 = ben.spotting_p(market, factor_er, factor_cov)\n",
    "p_factor_sp500"
   ]
  },
  {
   "cell_type": "code",
   "execution_count": 34,
   "metadata": {},
   "outputs": [
    {
     "data": {
      "text/plain": [
       "(0.009845607748314607, 0.04023132413238701)"
      ]
     },
     "execution_count": 34,
     "metadata": {},
     "output_type": "execute_result"
    }
   ],
   "source": [
    "market"
   ]
  },
  {
   "cell_type": "code",
   "execution_count": 44,
   "metadata": {},
   "outputs": [
    {
     "data": {
      "text/plain": [
       "-0.0086897701189338"
      ]
     },
     "execution_count": 44,
     "metadata": {},
     "output_type": "execute_result"
    }
   ],
   "source": [
    "# lambda\n",
    "fac_ef_market = p_factor_sp500['Vol'][0] - market[1]\n",
    "fac_ef_market"
   ]
  },
  {
   "cell_type": "markdown",
   "metadata": {},
   "source": [
    "---"
   ]
  },
  {
   "cell_type": "markdown",
   "metadata": {},
   "source": [
    "-----"
   ]
  },
  {
   "cell_type": "markdown",
   "metadata": {},
   "source": [
    "### III. The BJS (2002) test with the null hypothesis $\\lambda$ = 0"
   ]
  },
  {
   "cell_type": "code",
   "execution_count": 35,
   "metadata": {},
   "outputs": [],
   "source": [
    "def calculating_bjs (portfolio_p, primitive_asset, benchmark):\n",
    "    w_p = portfolio_p['Weight'].values\n",
    "    r_p = primitive_asset @ w_p\n",
    "    std_p = r_p.std()\n",
    "    \n",
    "    # calculating lambda\n",
    "    lamda = std_p - benchmark[1] \n",
    "    \n",
    "    # now perform the BJS 2002 test\n",
    "    l = []\n",
    "    for t in range(1,primitive_asset.shape[0]):\n",
    "        f = primitive_asset.iloc[:t, :].values\n",
    "        r = f @ w_p.T\n",
    "        s = r.std()\n",
    "        l.append(s - benchmark[1])\n",
    "    l = np.array(l)\n",
    "    l_std = l.std()\n",
    "    \n",
    "    # calculating z score\n",
    "    z = (lamda * np.sqrt(primitive_asset.shape[0])) / l_std\n",
    "    \n",
    "    return z"
   ]
  },
  {
   "cell_type": "markdown",
   "metadata": {},
   "source": [
    "#### ==> rejecting the null with one, two, and three stars with respect to probabilities of 10%, 5% and 1% (z = -2.58, -1.96, and -1.65)"
   ]
  },
  {
   "cell_type": "markdown",
   "metadata": {},
   "source": [
    "Comparing factor ETFs with industry benchmark and S&P500 portfolios"
   ]
  },
  {
   "cell_type": "code",
   "execution_count": 36,
   "metadata": {},
   "outputs": [
    {
     "data": {
      "text/plain": [
       "-18.940505571073437"
      ]
     },
     "execution_count": 36,
     "metadata": {},
     "output_type": "execute_result"
    }
   ],
   "source": [
    "calculating_bjs(p_factor_tan, factor, ind_tangency) # reject the null with three stars"
   ]
  },
  {
   "cell_type": "code",
   "execution_count": 37,
   "metadata": {},
   "outputs": [
    {
     "data": {
      "text/plain": [
       "-12.530703227176256"
      ]
     },
     "execution_count": 37,
     "metadata": {},
     "output_type": "execute_result"
    }
   ],
   "source": [
    "calculating_bjs(p_factor_gmv, factor, ind_gmv) # reject the null with three stars"
   ]
  },
  {
   "cell_type": "code",
   "execution_count": 38,
   "metadata": {},
   "outputs": [
    {
     "data": {
      "text/plain": [
       "-22.671685236590058"
      ]
     },
     "execution_count": 38,
     "metadata": {},
     "output_type": "execute_result"
    }
   ],
   "source": [
    "calculating_bjs(p_factor_sp500, factor, market) # reject the null with three stars"
   ]
  },
  {
   "cell_type": "markdown",
   "metadata": {},
   "source": [
    "Now let's treat industry ETFs as primitive assets"
   ]
  },
  {
   "cell_type": "markdown",
   "metadata": {},
   "source": [
    "Can not attain when comparing with factor tangency portfolio"
   ]
  },
  {
   "cell_type": "code",
   "execution_count": 39,
   "metadata": {},
   "outputs": [
    {
     "data": {
      "text/plain": [
       "11.795411049532376"
      ]
     },
     "execution_count": 39,
     "metadata": {},
     "output_type": "execute_result"
    }
   ],
   "source": [
    "calculating_bjs(p_ind_gmv, ind, factor_gmv) # reject the null with three stars"
   ]
  },
  {
   "cell_type": "code",
   "execution_count": 40,
   "metadata": {},
   "outputs": [
    {
     "data": {
      "text/plain": [
       "-2.3123333148088294"
      ]
     },
     "execution_count": 40,
     "metadata": {},
     "output_type": "execute_result"
    }
   ],
   "source": [
    "calculating_bjs(p_ind_sp500, ind, market) # do not reject the null at 10%"
   ]
  },
  {
   "cell_type": "markdown",
   "metadata": {},
   "source": [
    "----"
   ]
  }
 ],
 "metadata": {
  "kernelspec": {
   "display_name": "Python 3",
   "language": "python",
   "name": "python3"
  },
  "language_info": {
   "codemirror_mode": {
    "name": "ipython",
    "version": 3
   },
   "file_extension": ".py",
   "mimetype": "text/x-python",
   "name": "python",
   "nbconvert_exporter": "python",
   "pygments_lexer": "ipython3",
   "version": "3.6.12"
  }
 },
 "nbformat": 4,
 "nbformat_minor": 2
}
