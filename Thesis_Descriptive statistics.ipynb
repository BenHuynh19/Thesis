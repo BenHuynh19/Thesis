{
 "cells": [
  {
   "cell_type": "markdown",
   "metadata": {},
   "source": [
    "Read necessary libraries "
   ]
  },
  {
   "cell_type": "code",
   "execution_count": 1,
   "metadata": {},
   "outputs": [],
   "source": [
    "from matplotlib import pyplot as plt, rcParams, animation\n",
    "import scipy, seaborn as sns, matplotlib\n",
    "from scipy.cluster import hierarchy as hc\n",
    "matplotlib.rc('animation', html='html5')\n",
    "import numpy as np\n",
    "import pandas as pd\n",
    "import matplotlib.pyplot as plt\n",
    "%matplotlib inline\n",
    "%load_ext autoreload\n",
    "%autoreload 2\n",
    "np.set_printoptions(precision=5, linewidth=110, suppress=True)\n",
    "import seaborn as sns\n",
    "import warnings\n",
    "warnings.filterwarnings(\"ignore\")\n",
    "\n",
    "import ben"
   ]
  },
  {
   "cell_type": "code",
   "execution_count": 2,
   "metadata": {},
   "outputs": [],
   "source": [
    "path = 'data/thesis/'"
   ]
  },
  {
   "cell_type": "markdown",
   "metadata": {},
   "source": [
    "### I. Data"
   ]
  },
  {
   "cell_type": "markdown",
   "metadata": {},
   "source": [
    "1. 12 industry ETFs, each industry ETF is a column in a dataframe called \"ind\", these ETFs are designed by BlackRock\n",
    "2. 07 factor ETFs representing factor investing, each strategy is a column in a dataframe called \"factor\", these ETFs are designed by BlackRock\n",
    "3. S&P500 as market index and risk free rate (T-Bill one-month return) as rf"
   ]
  },
  {
   "cell_type": "code",
   "execution_count": 3,
   "metadata": {},
   "outputs": [
    {
     "data": {
      "text/html": [
       "<div>\n",
       "<style scoped>\n",
       "    .dataframe tbody tr th:only-of-type {\n",
       "        vertical-align: middle;\n",
       "    }\n",
       "\n",
       "    .dataframe tbody tr th {\n",
       "        vertical-align: top;\n",
       "    }\n",
       "\n",
       "    .dataframe thead th {\n",
       "        text-align: right;\n",
       "    }\n",
       "</style>\n",
       "<table border=\"1\" class=\"dataframe\">\n",
       "  <thead>\n",
       "    <tr style=\"text-align: right;\">\n",
       "      <th></th>\n",
       "      <th>IDU</th>\n",
       "      <th>IYC</th>\n",
       "      <th>IYF</th>\n",
       "      <th>IYG</th>\n",
       "      <th>IYH</th>\n",
       "      <th>IYJ</th>\n",
       "      <th>IYK</th>\n",
       "      <th>IYM</th>\n",
       "      <th>IYR</th>\n",
       "      <th>IYT</th>\n",
       "      <th>IYW</th>\n",
       "      <th>IYZ</th>\n",
       "    </tr>\n",
       "    <tr>\n",
       "      <th>Date</th>\n",
       "      <th></th>\n",
       "      <th></th>\n",
       "      <th></th>\n",
       "      <th></th>\n",
       "      <th></th>\n",
       "      <th></th>\n",
       "      <th></th>\n",
       "      <th></th>\n",
       "      <th></th>\n",
       "      <th></th>\n",
       "      <th></th>\n",
       "      <th></th>\n",
       "    </tr>\n",
       "  </thead>\n",
       "  <tbody>\n",
       "    <tr>\n",
       "      <th>2013-08</th>\n",
       "      <td>-0.053026</td>\n",
       "      <td>-0.037844</td>\n",
       "      <td>-0.049613</td>\n",
       "      <td>-0.051423</td>\n",
       "      <td>-0.035187</td>\n",
       "      <td>-0.022068</td>\n",
       "      <td>-0.033417</td>\n",
       "      <td>-0.001690</td>\n",
       "      <td>-0.065325</td>\n",
       "      <td>-0.032828</td>\n",
       "      <td>-0.006214</td>\n",
       "      <td>-0.040458</td>\n",
       "    </tr>\n",
       "    <tr>\n",
       "      <th>2013-09</th>\n",
       "      <td>0.005246</td>\n",
       "      <td>0.054969</td>\n",
       "      <td>0.028347</td>\n",
       "      <td>0.024893</td>\n",
       "      <td>0.028868</td>\n",
       "      <td>0.052925</td>\n",
       "      <td>0.021505</td>\n",
       "      <td>0.043441</td>\n",
       "      <td>0.024904</td>\n",
       "      <td>0.053466</td>\n",
       "      <td>0.026443</td>\n",
       "      <td>0.029104</td>\n",
       "    </tr>\n",
       "  </tbody>\n",
       "</table>\n",
       "</div>"
      ],
      "text/plain": [
       "              IDU       IYC       IYF       IYG       IYH       IYJ       IYK  \\\n",
       "Date                                                                            \n",
       "2013-08 -0.053026 -0.037844 -0.049613 -0.051423 -0.035187 -0.022068 -0.033417   \n",
       "2013-09  0.005246  0.054969  0.028347  0.024893  0.028868  0.052925  0.021505   \n",
       "\n",
       "              IYM       IYR       IYT       IYW       IYZ  \n",
       "Date                                                       \n",
       "2013-08 -0.001690 -0.065325 -0.032828 -0.006214 -0.040458  \n",
       "2013-09  0.043441  0.024904  0.053466  0.026443  0.029104  "
      ]
     },
     "execution_count": 3,
     "metadata": {},
     "output_type": "execute_result"
    }
   ],
   "source": [
    "ind = ben.get_df('sector_return.xlsx', path); ind.head(2)"
   ]
  },
  {
   "cell_type": "code",
   "execution_count": 4,
   "metadata": {},
   "outputs": [
    {
     "data": {
      "text/plain": [
       "(89, 12)"
      ]
     },
     "execution_count": 4,
     "metadata": {},
     "output_type": "execute_result"
    }
   ],
   "source": [
    "ind.shape"
   ]
  },
  {
   "cell_type": "code",
   "execution_count": 5,
   "metadata": {},
   "outputs": [
    {
     "data": {
      "text/html": [
       "<div>\n",
       "<style scoped>\n",
       "    .dataframe tbody tr th:only-of-type {\n",
       "        vertical-align: middle;\n",
       "    }\n",
       "\n",
       "    .dataframe tbody tr th {\n",
       "        vertical-align: top;\n",
       "    }\n",
       "\n",
       "    .dataframe thead th {\n",
       "        text-align: right;\n",
       "    }\n",
       "</style>\n",
       "<table border=\"1\" class=\"dataframe\">\n",
       "  <thead>\n",
       "    <tr style=\"text-align: right;\">\n",
       "      <th></th>\n",
       "      <th>EEMV</th>\n",
       "      <th>EFAV</th>\n",
       "      <th>MTUM</th>\n",
       "      <th>QUAL</th>\n",
       "      <th>SIZE</th>\n",
       "      <th>USMV</th>\n",
       "      <th>VLUE</th>\n",
       "    </tr>\n",
       "    <tr>\n",
       "      <th>Date</th>\n",
       "      <th></th>\n",
       "      <th></th>\n",
       "      <th></th>\n",
       "      <th></th>\n",
       "      <th></th>\n",
       "      <th></th>\n",
       "      <th></th>\n",
       "    </tr>\n",
       "  </thead>\n",
       "  <tbody>\n",
       "    <tr>\n",
       "      <th>2013-08</th>\n",
       "      <td>-0.040745</td>\n",
       "      <td>-0.017007</td>\n",
       "      <td>-0.035704</td>\n",
       "      <td>-0.020750</td>\n",
       "      <td>-0.033024</td>\n",
       "      <td>-0.032573</td>\n",
       "      <td>-0.031201</td>\n",
       "    </tr>\n",
       "    <tr>\n",
       "      <th>2013-09</th>\n",
       "      <td>0.065892</td>\n",
       "      <td>0.054481</td>\n",
       "      <td>0.030237</td>\n",
       "      <td>0.038127</td>\n",
       "      <td>0.031530</td>\n",
       "      <td>0.025530</td>\n",
       "      <td>0.028047</td>\n",
       "    </tr>\n",
       "  </tbody>\n",
       "</table>\n",
       "</div>"
      ],
      "text/plain": [
       "             EEMV      EFAV      MTUM      QUAL      SIZE      USMV      VLUE\n",
       "Date                                                                         \n",
       "2013-08 -0.040745 -0.017007 -0.035704 -0.020750 -0.033024 -0.032573 -0.031201\n",
       "2013-09  0.065892  0.054481  0.030237  0.038127  0.031530  0.025530  0.028047"
      ]
     },
     "execution_count": 5,
     "metadata": {},
     "output_type": "execute_result"
    }
   ],
   "source": [
    "factor = ben.get_df('factor_return.xlsx', path); factor.head(2)"
   ]
  },
  {
   "cell_type": "code",
   "execution_count": 6,
   "metadata": {},
   "outputs": [
    {
     "data": {
      "text/plain": [
       "(89, 7)"
      ]
     },
     "execution_count": 6,
     "metadata": {},
     "output_type": "execute_result"
    }
   ],
   "source": [
    "factor.shape"
   ]
  },
  {
   "cell_type": "code",
   "execution_count": 7,
   "metadata": {},
   "outputs": [
    {
     "data": {
      "text/html": [
       "<div>\n",
       "<style scoped>\n",
       "    .dataframe tbody tr th:only-of-type {\n",
       "        vertical-align: middle;\n",
       "    }\n",
       "\n",
       "    .dataframe tbody tr th {\n",
       "        vertical-align: top;\n",
       "    }\n",
       "\n",
       "    .dataframe thead th {\n",
       "        text-align: right;\n",
       "    }\n",
       "</style>\n",
       "<table border=\"1\" class=\"dataframe\">\n",
       "  <thead>\n",
       "    <tr style=\"text-align: right;\">\n",
       "      <th></th>\n",
       "      <th>rf</th>\n",
       "      <th>sp500</th>\n",
       "    </tr>\n",
       "    <tr>\n",
       "      <th>Date</th>\n",
       "      <th></th>\n",
       "      <th></th>\n",
       "    </tr>\n",
       "  </thead>\n",
       "  <tbody>\n",
       "    <tr>\n",
       "      <th>2013-08</th>\n",
       "      <td>0.000009</td>\n",
       "      <td>-0.031298</td>\n",
       "    </tr>\n",
       "    <tr>\n",
       "      <th>2013-09</th>\n",
       "      <td>0.000008</td>\n",
       "      <td>0.029749</td>\n",
       "    </tr>\n",
       "  </tbody>\n",
       "</table>\n",
       "</div>"
      ],
      "text/plain": [
       "               rf     sp500\n",
       "Date                       \n",
       "2013-08  0.000009 -0.031298\n",
       "2013-09  0.000008  0.029749"
      ]
     },
     "execution_count": 7,
     "metadata": {},
     "output_type": "execute_result"
    }
   ],
   "source": [
    "market_rf = ben.get_df_excel('sp500.xlsx', path); market_rf.head(2)\n",
    "market_rf.columns = ['rf','sp500']\n",
    "market_rf.head(2)"
   ]
  },
  {
   "cell_type": "code",
   "execution_count": 8,
   "metadata": {},
   "outputs": [
    {
     "data": {
      "text/plain": [
       "(89, 2)"
      ]
     },
     "execution_count": 8,
     "metadata": {},
     "output_type": "execute_result"
    }
   ],
   "source": [
    "market_rf.shape"
   ]
  },
  {
   "cell_type": "code",
   "execution_count": 12,
   "metadata": {},
   "outputs": [
    {
     "data": {
      "text/plain": [
       "(0.009845607748314607, 0.04023132413238701)"
      ]
     },
     "execution_count": 12,
     "metadata": {},
     "output_type": "execute_result"
    }
   ],
   "source": [
    "mar_ret = market_rf['sp500'].mean()\n",
    "mar_vol = market_rf['sp500'].std()\n",
    "market = (mar_ret, mar_vol)\n",
    "market"
   ]
  },
  {
   "cell_type": "code",
   "execution_count": 13,
   "metadata": {},
   "outputs": [
    {
     "data": {
      "text/plain": [
       "0.0005907303370786517"
      ]
     },
     "execution_count": 13,
     "metadata": {},
     "output_type": "execute_result"
    }
   ],
   "source": [
    "rf = market_rf['rf'].mean()\n",
    "rf"
   ]
  },
  {
   "cell_type": "markdown",
   "metadata": {},
   "source": [
    "### II. Descriptive statistics"
   ]
  },
  {
   "cell_type": "code",
   "execution_count": 63,
   "metadata": {},
   "outputs": [],
   "source": [
    "l = [\"Sharpe ratio\", \"Skewness\", \"Kurtosis\", \"VaR\", \"annu. return\"]\n",
    "func_name = [ben.sharpe_ratio, ben.get_skewness, ben.get_kurtosis, ben.var_historic, \n",
    "             ben.annualize_ret]"
   ]
  },
  {
   "cell_type": "code",
   "execution_count": 64,
   "metadata": {},
   "outputs": [],
   "source": [
    "def get_descriptive (df, l, func_name):\n",
    "    des = df.describe()\n",
    "    for i in range(0, len(l)):\n",
    "        row_name = l[i]\n",
    "        func = func_name[i]\n",
    "        if row_name == \"Sharpe ratio\":\n",
    "            row_val = func(df, rf).values\n",
    "        else:\n",
    "            row_val = func(df).values\n",
    "        des.loc[-1] = row_val\n",
    "        des.rename(index={-1: row_name}, inplace=True)\n",
    "    return des"
   ]
  },
  {
   "cell_type": "code",
   "execution_count": 65,
   "metadata": {},
   "outputs": [],
   "source": [
    "ind_col = ['Utilities','Consumer','Financials','Fin. Services',\n",
    "        'Healthcare','Industrials','Con. Staples','Materials','Real Estate',\n",
    "        'Transportation','Technology','Telecom']"
   ]
  },
  {
   "cell_type": "code",
   "execution_count": 66,
   "metadata": {},
   "outputs": [],
   "source": [
    "fac_col = ['EM Min Vol','EAFE Min Vol','US Momentum','US Quality',\n",
    "          'US Size','US Min Vol','US Value']"
   ]
  },
  {
   "cell_type": "code",
   "execution_count": 67,
   "metadata": {},
   "outputs": [],
   "source": [
    "def mapping_column_name (df, col_name):\n",
    "    res = {}\n",
    "    for i in range(0, len(col_name)):\n",
    "        o = df.columns[i]\n",
    "        r = col_name[i]\n",
    "        res[o] = r\n",
    "    return res"
   ]
  },
  {
   "cell_type": "markdown",
   "metadata": {},
   "source": [
    "---"
   ]
  },
  {
   "cell_type": "code",
   "execution_count": 68,
   "metadata": {},
   "outputs": [
    {
     "data": {
      "text/plain": [
       "{'IDU': 'Utilities',\n",
       " 'IYC': 'Consumer',\n",
       " 'IYF': 'Financials',\n",
       " 'IYG': 'Fin. Services',\n",
       " 'IYH': 'Healthcare',\n",
       " 'IYJ': 'Industrials',\n",
       " 'IYK': 'Con. Staples',\n",
       " 'IYM': 'Materials',\n",
       " 'IYR': 'Real Estate',\n",
       " 'IYT': 'Transportation',\n",
       " 'IYW': 'Technology',\n",
       " 'IYZ': 'Telecom'}"
      ]
     },
     "execution_count": 68,
     "metadata": {},
     "output_type": "execute_result"
    }
   ],
   "source": [
    "ind_name = mapping_column_name(ind, ind_col)\n",
    "ind_name"
   ]
  },
  {
   "cell_type": "code",
   "execution_count": 69,
   "metadata": {},
   "outputs": [
    {
     "data": {
      "text/plain": [
       "{'EEMV': 'EM Min Vol',\n",
       " 'EFAV': 'EAFE Min Vol',\n",
       " 'MTUM': 'US Momentum',\n",
       " 'QUAL': 'US Quality',\n",
       " 'SIZE': 'US Size',\n",
       " 'USMV': 'US Min Vol',\n",
       " 'VLUE': 'US Value'}"
      ]
     },
     "execution_count": 69,
     "metadata": {},
     "output_type": "execute_result"
    }
   ],
   "source": [
    "fac_name = mapping_column_name(factor, fac_col)\n",
    "fac_name"
   ]
  },
  {
   "cell_type": "code",
   "execution_count": 70,
   "metadata": {},
   "outputs": [
    {
     "data": {
      "text/html": [
       "<div>\n",
       "<style scoped>\n",
       "    .dataframe tbody tr th:only-of-type {\n",
       "        vertical-align: middle;\n",
       "    }\n",
       "\n",
       "    .dataframe tbody tr th {\n",
       "        vertical-align: top;\n",
       "    }\n",
       "\n",
       "    .dataframe thead th {\n",
       "        text-align: right;\n",
       "    }\n",
       "</style>\n",
       "<table border=\"1\" class=\"dataframe\">\n",
       "  <thead>\n",
       "    <tr style=\"text-align: right;\">\n",
       "      <th></th>\n",
       "      <th>Utilities</th>\n",
       "      <th>Consumer</th>\n",
       "      <th>Financials</th>\n",
       "      <th>Fin. Services</th>\n",
       "      <th>Healthcare</th>\n",
       "      <th>Industrials</th>\n",
       "      <th>Con. Staples</th>\n",
       "      <th>Materials</th>\n",
       "      <th>Real Estate</th>\n",
       "      <th>Transportation</th>\n",
       "      <th>Technology</th>\n",
       "      <th>Telecom</th>\n",
       "    </tr>\n",
       "  </thead>\n",
       "  <tbody>\n",
       "    <tr>\n",
       "      <th>count</th>\n",
       "      <td>89.000000</td>\n",
       "      <td>89.000000</td>\n",
       "      <td>89.000000</td>\n",
       "      <td>89.000000</td>\n",
       "      <td>89.000000</td>\n",
       "      <td>89.000000</td>\n",
       "      <td>89.000000</td>\n",
       "      <td>89.000000</td>\n",
       "      <td>89.000000</td>\n",
       "      <td>89.000000</td>\n",
       "      <td>89.000000</td>\n",
       "      <td>89.000000</td>\n",
       "    </tr>\n",
       "    <tr>\n",
       "      <th>mean</th>\n",
       "      <td>0.000242</td>\n",
       "      <td>0.003190</td>\n",
       "      <td>0.001772</td>\n",
       "      <td>0.009381</td>\n",
       "      <td>0.010140</td>\n",
       "      <td>0.004413</td>\n",
       "      <td>0.008173</td>\n",
       "      <td>0.006772</td>\n",
       "      <td>0.003837</td>\n",
       "      <td>0.008810</td>\n",
       "      <td>0.009179</td>\n",
       "      <td>0.001801</td>\n",
       "    </tr>\n",
       "    <tr>\n",
       "      <th>std</th>\n",
       "      <td>0.066115</td>\n",
       "      <td>0.092505</td>\n",
       "      <td>0.069744</td>\n",
       "      <td>0.058649</td>\n",
       "      <td>0.040766</td>\n",
       "      <td>0.072140</td>\n",
       "      <td>0.041077</td>\n",
       "      <td>0.055106</td>\n",
       "      <td>0.044371</td>\n",
       "      <td>0.054617</td>\n",
       "      <td>0.094143</td>\n",
       "      <td>0.043159</td>\n",
       "    </tr>\n",
       "    <tr>\n",
       "      <th>min</th>\n",
       "      <td>-0.500868</td>\n",
       "      <td>-0.742240</td>\n",
       "      <td>-0.475615</td>\n",
       "      <td>-0.224605</td>\n",
       "      <td>-0.099103</td>\n",
       "      <td>-0.489512</td>\n",
       "      <td>-0.123958</td>\n",
       "      <td>-0.164818</td>\n",
       "      <td>-0.204005</td>\n",
       "      <td>-0.180762</td>\n",
       "      <td>-0.738336</td>\n",
       "      <td>-0.112183</td>\n",
       "    </tr>\n",
       "    <tr>\n",
       "      <th>25%</th>\n",
       "      <td>-0.019774</td>\n",
       "      <td>-0.012720</td>\n",
       "      <td>-0.021237</td>\n",
       "      <td>-0.020734</td>\n",
       "      <td>-0.009760</td>\n",
       "      <td>-0.020049</td>\n",
       "      <td>-0.015303</td>\n",
       "      <td>-0.022288</td>\n",
       "      <td>-0.016697</td>\n",
       "      <td>-0.011662</td>\n",
       "      <td>-0.017074</td>\n",
       "      <td>-0.025273</td>\n",
       "    </tr>\n",
       "    <tr>\n",
       "      <th>50%</th>\n",
       "      <td>0.012605</td>\n",
       "      <td>0.010803</td>\n",
       "      <td>0.017944</td>\n",
       "      <td>0.021254</td>\n",
       "      <td>0.010405</td>\n",
       "      <td>0.009759</td>\n",
       "      <td>0.006491</td>\n",
       "      <td>0.007687</td>\n",
       "      <td>0.005065</td>\n",
       "      <td>0.011699</td>\n",
       "      <td>0.021401</td>\n",
       "      <td>0.000310</td>\n",
       "    </tr>\n",
       "    <tr>\n",
       "      <th>75%</th>\n",
       "      <td>0.032318</td>\n",
       "      <td>0.034728</td>\n",
       "      <td>0.033936</td>\n",
       "      <td>0.038968</td>\n",
       "      <td>0.037505</td>\n",
       "      <td>0.035959</td>\n",
       "      <td>0.027978</td>\n",
       "      <td>0.035130</td>\n",
       "      <td>0.029183</td>\n",
       "      <td>0.041493</td>\n",
       "      <td>0.047152</td>\n",
       "      <td>0.027958</td>\n",
       "    </tr>\n",
       "    <tr>\n",
       "      <th>max</th>\n",
       "      <td>0.084260</td>\n",
       "      <td>0.155848</td>\n",
       "      <td>0.146394</td>\n",
       "      <td>0.177839</td>\n",
       "      <td>0.129286</td>\n",
       "      <td>0.156714</td>\n",
       "      <td>0.127564</td>\n",
       "      <td>0.171214</td>\n",
       "      <td>0.114758</td>\n",
       "      <td>0.118417</td>\n",
       "      <td>0.146240</td>\n",
       "      <td>0.119835</td>\n",
       "    </tr>\n",
       "    <tr>\n",
       "      <th>Sharpe ratio</th>\n",
       "      <td>-0.005274</td>\n",
       "      <td>0.028098</td>\n",
       "      <td>0.016937</td>\n",
       "      <td>0.149881</td>\n",
       "      <td>0.234241</td>\n",
       "      <td>0.052980</td>\n",
       "      <td>0.184586</td>\n",
       "      <td>0.112179</td>\n",
       "      <td>0.073169</td>\n",
       "      <td>0.150486</td>\n",
       "      <td>0.091223</td>\n",
       "      <td>0.028044</td>\n",
       "    </tr>\n",
       "    <tr>\n",
       "      <th>Skewness</th>\n",
       "      <td>-5.012742</td>\n",
       "      <td>-5.924199</td>\n",
       "      <td>-3.884567</td>\n",
       "      <td>-0.655885</td>\n",
       "      <td>-0.263935</td>\n",
       "      <td>-3.725537</td>\n",
       "      <td>-0.090281</td>\n",
       "      <td>-0.009428</td>\n",
       "      <td>-0.984885</td>\n",
       "      <td>-0.759845</td>\n",
       "      <td>-5.661164</td>\n",
       "      <td>0.237314</td>\n",
       "    </tr>\n",
       "    <tr>\n",
       "      <th>Kurtosis</th>\n",
       "      <td>38.276162</td>\n",
       "      <td>48.765834</td>\n",
       "      <td>26.777055</td>\n",
       "      <td>5.468435</td>\n",
       "      <td>3.384529</td>\n",
       "      <td>26.423327</td>\n",
       "      <td>4.497131</td>\n",
       "      <td>4.039391</td>\n",
       "      <td>7.433235</td>\n",
       "      <td>4.430607</td>\n",
       "      <td>45.906590</td>\n",
       "      <td>3.193619</td>\n",
       "    </tr>\n",
       "    <tr>\n",
       "      <th>VaR</th>\n",
       "      <td>0.067959</td>\n",
       "      <td>0.075277</td>\n",
       "      <td>0.075421</td>\n",
       "      <td>0.085825</td>\n",
       "      <td>0.067385</td>\n",
       "      <td>0.079737</td>\n",
       "      <td>0.060723</td>\n",
       "      <td>0.084630</td>\n",
       "      <td>0.066074</td>\n",
       "      <td>0.092345</td>\n",
       "      <td>0.074876</td>\n",
       "      <td>0.063923</td>\n",
       "    </tr>\n",
       "    <tr>\n",
       "      <th>annu. return</th>\n",
       "      <td>-0.031817</td>\n",
       "      <td>-0.056286</td>\n",
       "      <td>-0.015514</td>\n",
       "      <td>0.095608</td>\n",
       "      <td>0.117737</td>\n",
       "      <td>0.013496</td>\n",
       "      <td>0.091735</td>\n",
       "      <td>0.065141</td>\n",
       "      <td>0.034522</td>\n",
       "      <td>0.091190</td>\n",
       "      <td>0.013102</td>\n",
       "      <td>0.010682</td>\n",
       "    </tr>\n",
       "  </tbody>\n",
       "</table>\n",
       "</div>"
      ],
      "text/plain": [
       "              Utilities   Consumer  Financials  Fin. Services  Healthcare  \\\n",
       "count         89.000000  89.000000   89.000000      89.000000   89.000000   \n",
       "mean           0.000242   0.003190    0.001772       0.009381    0.010140   \n",
       "std            0.066115   0.092505    0.069744       0.058649    0.040766   \n",
       "min           -0.500868  -0.742240   -0.475615      -0.224605   -0.099103   \n",
       "25%           -0.019774  -0.012720   -0.021237      -0.020734   -0.009760   \n",
       "50%            0.012605   0.010803    0.017944       0.021254    0.010405   \n",
       "75%            0.032318   0.034728    0.033936       0.038968    0.037505   \n",
       "max            0.084260   0.155848    0.146394       0.177839    0.129286   \n",
       "Sharpe ratio  -0.005274   0.028098    0.016937       0.149881    0.234241   \n",
       "Skewness      -5.012742  -5.924199   -3.884567      -0.655885   -0.263935   \n",
       "Kurtosis      38.276162  48.765834   26.777055       5.468435    3.384529   \n",
       "VaR            0.067959   0.075277    0.075421       0.085825    0.067385   \n",
       "annu. return  -0.031817  -0.056286   -0.015514       0.095608    0.117737   \n",
       "\n",
       "              Industrials  Con. Staples  Materials  Real Estate  \\\n",
       "count           89.000000     89.000000  89.000000    89.000000   \n",
       "mean             0.004413      0.008173   0.006772     0.003837   \n",
       "std              0.072140      0.041077   0.055106     0.044371   \n",
       "min             -0.489512     -0.123958  -0.164818    -0.204005   \n",
       "25%             -0.020049     -0.015303  -0.022288    -0.016697   \n",
       "50%              0.009759      0.006491   0.007687     0.005065   \n",
       "75%              0.035959      0.027978   0.035130     0.029183   \n",
       "max              0.156714      0.127564   0.171214     0.114758   \n",
       "Sharpe ratio     0.052980      0.184586   0.112179     0.073169   \n",
       "Skewness        -3.725537     -0.090281  -0.009428    -0.984885   \n",
       "Kurtosis        26.423327      4.497131   4.039391     7.433235   \n",
       "VaR              0.079737      0.060723   0.084630     0.066074   \n",
       "annu. return     0.013496      0.091735   0.065141     0.034522   \n",
       "\n",
       "              Transportation  Technology    Telecom  \n",
       "count              89.000000   89.000000  89.000000  \n",
       "mean                0.008810    0.009179   0.001801  \n",
       "std                 0.054617    0.094143   0.043159  \n",
       "min                -0.180762   -0.738336  -0.112183  \n",
       "25%                -0.011662   -0.017074  -0.025273  \n",
       "50%                 0.011699    0.021401   0.000310  \n",
       "75%                 0.041493    0.047152   0.027958  \n",
       "max                 0.118417    0.146240   0.119835  \n",
       "Sharpe ratio        0.150486    0.091223   0.028044  \n",
       "Skewness           -0.759845   -5.661164   0.237314  \n",
       "Kurtosis            4.430607   45.906590   3.193619  \n",
       "VaR                 0.092345    0.074876   0.063923  \n",
       "annu. return        0.091190    0.013102   0.010682  "
      ]
     },
     "execution_count": 70,
     "metadata": {},
     "output_type": "execute_result"
    }
   ],
   "source": [
    "ind_des = get_descriptive(ind, l, func_name)\n",
    "ind_des.columns = ind_col\n",
    "ind_des"
   ]
  },
  {
   "cell_type": "code",
   "execution_count": 71,
   "metadata": {},
   "outputs": [],
   "source": [
    "ind_des.to_excel(f'{path}industry_descriptive.xlsx') # export to excel"
   ]
  },
  {
   "cell_type": "code",
   "execution_count": 72,
   "metadata": {},
   "outputs": [],
   "source": [
    "ind_des.to_latex(f'{path}ind_des.tex')"
   ]
  },
  {
   "cell_type": "markdown",
   "metadata": {},
   "source": [
    "---"
   ]
  },
  {
   "cell_type": "code",
   "execution_count": 73,
   "metadata": {},
   "outputs": [
    {
     "data": {
      "image/png": "[encoded data removed]",
      "text/plain": [
       "<Figure size 432x288 with 1 Axes>"
      ]
     },
     "metadata": {
      "needs_background": "light"
     },
     "output_type": "display_data"
    },
    {
     "data": {
      "image/png": "[encoded data removed]",
      "text/plain": [
       "<Figure size 432x288 with 1 Axes>"
      ]
     },
     "metadata": {
      "needs_background": "light"
     },
     "output_type": "display_data"
    },
    {
     "data": {
      "image/png": "[encoded data removed]",
      "text/plain": [
       "<Figure size 432x288 with 1 Axes>"
      ]
     },
     "metadata": {
      "needs_background": "light"
     },
     "output_type": "display_data"
    },
    {
     "data": {
      "image/png": "[encoded data removed]",
      "text/plain": [
       "<Figure size 432x288 with 1 Axes>"
      ]
     },
     "metadata": {
      "needs_background": "light"
     },
     "output_type": "display_data"
    },
    {
     "data": {
      "image/png": "[encoded data removed]",
      "text/plain": [
       "<Figure size 432x288 with 1 Axes>"
      ]
     },
     "metadata": {
      "needs_background": "light"
     },
     "output_type": "display_data"
    }
   ],
   "source": [
    "for i in range(0, len(l)):\n",
    "    plt.figure()\n",
    "    cri = l[i]\n",
    "    plt.bar(ind_des.columns,ind_des.loc[cri])\n",
    "    plt.title(f'{cri}')\n",
    "    plt.xticks(rotation='vertical')"
   ]
  },
  {
   "cell_type": "code",
   "execution_count": 84,
   "metadata": {},
   "outputs": [
    {
     "data": {
      "text/plain": [
       "0.11407396963666461"
      ]
     },
     "execution_count": 84,
     "metadata": {},
     "output_type": "execute_result"
    }
   ],
   "source": [
    "m = ben.annualize_ret(market_rf['sp500'])\n",
    "m"
   ]
  },
  {
   "cell_type": "markdown",
   "metadata": {},
   "source": [
    "- Considered as one of the most cited ratio in measuring financial performance is the Sharpe ratio, first developed by William Sharpe (1966), which calculated the excess expected return over its volatility (standard deviation) of an investment. The higher the ratio, the better the investment. While the ratio for sector ETFs ranges from practically zero (Utilities) to 0.23 (Healthcare), the ratio for factor ETFs has higher spectrum, ranging from 0.07 (EM minimized volatility) to 0.33 (US momentum), indicating that on average, the factor ETFs earned more excess returns after adjusting for its risk.\n",
    "- For skewness - a measure of symmetry in data distributions, all sector ETFs are negative, except Telecomunication (0.23), and they vary notably across industries. Factor ETFs have lower level of variability, from -0.8 (US Min Vol) to -0.28 (US Quality). The same pattern arises in terms of measuring statistical distributions by Kurtosis. A larger, wider Kurtosis range of sector ETFs, from 3.19 (Telecommunication) to 48.7 (Consumer), compared to the factor ETFs range (from 3.4 to 7.6), implies a higher level of risk associated with sector investments.\n",
    "- As pointed out by Ang, Chen, and Xing (2006), investors pay more attention to downside risks, rather than the overall volatility. Specifically, the latter measures the variability of returns around the expected value, regardless of the sign. This is rarely the case in reality where \"agents who place greater weight on the risk of downside losses than they are attach to upside gains demand greater compensation for holding stocks with high downside risk\". In order to measure this downside risk, many methods have been proposed over the years, however Value at Risk (VaR) was considered as the most widely accepted approach. First developed by J.P. Morgan in 1996, VaR enabled investors to gauge the maximum estimated loss at a commonly 95% confident level. VaR in sector ETFs ranged from 0.064 (Telecommunication) to 0.092 (Transportation), which was greater than that of factor ETFs from 0.042 to 0.076, implying repeatedly the fact that an investment in sector ETFs was more presumably risky than in factor ETFs.\n",
    "- Regarding annualized returns, there was three sector ETFs that lost money over the sample period (Utilities, Consumers, and Financials), whilst the best performing sectors belonged to Healthcare and Financial Services (approximately around 10%). As for factor ETFs, the lowest annualized return was 3.4% (EM Min Vol), while the US momentum ETF captured the highest return at 17.2%, followed by the US quality ETF at 14%."
   ]
  },
  {
   "cell_type": "markdown",
   "metadata": {},
   "source": [
    "Ang, Andrew and Chen, Joseph S. and Xing, Yuhang, Downside Risk (March 3, 2004). AFA 2005 Philadelphia Meetings, Available at SSRN: https://ssrn.com/abstract=641843 or http://dx.doi.org/10.2139/ssrn.641843\n",
    "\n",
    "Glasserman, Paul and Heidelberger, Philip and Shahabuddin, Perwez, Portfolio Value-at-Risk with Heavy-Tailed Risk Factors. Available at SSRN: https://ssrn.com/abstract=316207\n",
    "\n",
    "Sharpe, W.F. (1966) Mutual fund performance. The Journal of Business, 39, 119-138.\n",
    "http://dx.doi.org/10.1086/294846\n"
   ]
  },
  {
   "cell_type": "markdown",
   "metadata": {},
   "source": [
    "---"
   ]
  },
  {
   "cell_type": "code",
   "execution_count": 74,
   "metadata": {},
   "outputs": [
    {
     "data": {
      "text/html": [
       "<div>\n",
       "<style scoped>\n",
       "    .dataframe tbody tr th:only-of-type {\n",
       "        vertical-align: middle;\n",
       "    }\n",
       "\n",
       "    .dataframe tbody tr th {\n",
       "        vertical-align: top;\n",
       "    }\n",
       "\n",
       "    .dataframe thead th {\n",
       "        text-align: right;\n",
       "    }\n",
       "</style>\n",
       "<table border=\"1\" class=\"dataframe\">\n",
       "  <thead>\n",
       "    <tr style=\"text-align: right;\">\n",
       "      <th></th>\n",
       "      <th>EM Min Vol</th>\n",
       "      <th>EAFE Min Vol</th>\n",
       "      <th>US Momentum</th>\n",
       "      <th>US Quality</th>\n",
       "      <th>US Size</th>\n",
       "      <th>US Min Vol</th>\n",
       "      <th>US Value</th>\n",
       "    </tr>\n",
       "  </thead>\n",
       "  <tbody>\n",
       "    <tr>\n",
       "      <th>count</th>\n",
       "      <td>89.000000</td>\n",
       "      <td>89.000000</td>\n",
       "      <td>89.000000</td>\n",
       "      <td>89.000000</td>\n",
       "      <td>89.000000</td>\n",
       "      <td>89.000000</td>\n",
       "      <td>89.000000</td>\n",
       "    </tr>\n",
       "    <tr>\n",
       "      <th>mean</th>\n",
       "      <td>0.003573</td>\n",
       "      <td>0.005456</td>\n",
       "      <td>0.014154</td>\n",
       "      <td>0.011736</td>\n",
       "      <td>0.010718</td>\n",
       "      <td>0.010156</td>\n",
       "      <td>0.008362</td>\n",
       "    </tr>\n",
       "    <tr>\n",
       "      <th>std</th>\n",
       "      <td>0.038336</td>\n",
       "      <td>0.029994</td>\n",
       "      <td>0.040643</td>\n",
       "      <td>0.039724</td>\n",
       "      <td>0.043765</td>\n",
       "      <td>0.032169</td>\n",
       "      <td>0.047238</td>\n",
       "    </tr>\n",
       "    <tr>\n",
       "      <th>min</th>\n",
       "      <td>-0.120690</td>\n",
       "      <td>-0.098373</td>\n",
       "      <td>-0.115587</td>\n",
       "      <td>-0.114189</td>\n",
       "      <td>-0.182781</td>\n",
       "      <td>-0.113379</td>\n",
       "      <td>-0.183625</td>\n",
       "    </tr>\n",
       "    <tr>\n",
       "      <th>25%</th>\n",
       "      <td>-0.020833</td>\n",
       "      <td>-0.009781</td>\n",
       "      <td>-0.009944</td>\n",
       "      <td>-0.007563</td>\n",
       "      <td>-0.006475</td>\n",
       "      <td>-0.004941</td>\n",
       "      <td>-0.011091</td>\n",
       "    </tr>\n",
       "    <tr>\n",
       "      <th>50%</th>\n",
       "      <td>0.008851</td>\n",
       "      <td>0.008436</td>\n",
       "      <td>0.017960</td>\n",
       "      <td>0.010710</td>\n",
       "      <td>0.013109</td>\n",
       "      <td>0.012605</td>\n",
       "      <td>0.012419</td>\n",
       "    </tr>\n",
       "    <tr>\n",
       "      <th>75%</th>\n",
       "      <td>0.029075</td>\n",
       "      <td>0.024261</td>\n",
       "      <td>0.037432</td>\n",
       "      <td>0.036972</td>\n",
       "      <td>0.034141</td>\n",
       "      <td>0.030596</td>\n",
       "      <td>0.034136</td>\n",
       "    </tr>\n",
       "    <tr>\n",
       "      <th>max</th>\n",
       "      <td>0.092282</td>\n",
       "      <td>0.087952</td>\n",
       "      <td>0.117017</td>\n",
       "      <td>0.122779</td>\n",
       "      <td>0.143132</td>\n",
       "      <td>0.093686</td>\n",
       "      <td>0.164269</td>\n",
       "    </tr>\n",
       "    <tr>\n",
       "      <th>Sharpe ratio</th>\n",
       "      <td>0.077793</td>\n",
       "      <td>0.162203</td>\n",
       "      <td>0.333710</td>\n",
       "      <td>0.280573</td>\n",
       "      <td>0.231394</td>\n",
       "      <td>0.297357</td>\n",
       "      <td>0.164505</td>\n",
       "    </tr>\n",
       "    <tr>\n",
       "      <th>Skewness</th>\n",
       "      <td>-0.399998</td>\n",
       "      <td>-0.568746</td>\n",
       "      <td>-0.413289</td>\n",
       "      <td>-0.287832</td>\n",
       "      <td>-0.676955</td>\n",
       "      <td>-0.805963</td>\n",
       "      <td>-0.610647</td>\n",
       "    </tr>\n",
       "    <tr>\n",
       "      <th>Kurtosis</th>\n",
       "      <td>3.439174</td>\n",
       "      <td>4.349340</td>\n",
       "      <td>4.037773</td>\n",
       "      <td>4.322428</td>\n",
       "      <td>7.643459</td>\n",
       "      <td>5.425457</td>\n",
       "      <td>6.565718</td>\n",
       "    </tr>\n",
       "    <tr>\n",
       "      <th>VaR</th>\n",
       "      <td>0.053060</td>\n",
       "      <td>0.046717</td>\n",
       "      <td>0.052755</td>\n",
       "      <td>0.061150</td>\n",
       "      <td>0.054953</td>\n",
       "      <td>0.041739</td>\n",
       "      <td>0.075688</td>\n",
       "    </tr>\n",
       "    <tr>\n",
       "      <th>annu. return</th>\n",
       "      <td>0.034619</td>\n",
       "      <td>0.061776</td>\n",
       "      <td>0.172327</td>\n",
       "      <td>0.139704</td>\n",
       "      <td>0.123560</td>\n",
       "      <td>0.122014</td>\n",
       "      <td>0.090412</td>\n",
       "    </tr>\n",
       "  </tbody>\n",
       "</table>\n",
       "</div>"
      ],
      "text/plain": [
       "              EM Min Vol  EAFE Min Vol  US Momentum  US Quality    US Size  \\\n",
       "count          89.000000     89.000000    89.000000   89.000000  89.000000   \n",
       "mean            0.003573      0.005456     0.014154    0.011736   0.010718   \n",
       "std             0.038336      0.029994     0.040643    0.039724   0.043765   \n",
       "min            -0.120690     -0.098373    -0.115587   -0.114189  -0.182781   \n",
       "25%            -0.020833     -0.009781    -0.009944   -0.007563  -0.006475   \n",
       "50%             0.008851      0.008436     0.017960    0.010710   0.013109   \n",
       "75%             0.029075      0.024261     0.037432    0.036972   0.034141   \n",
       "max             0.092282      0.087952     0.117017    0.122779   0.143132   \n",
       "Sharpe ratio    0.077793      0.162203     0.333710    0.280573   0.231394   \n",
       "Skewness       -0.399998     -0.568746    -0.413289   -0.287832  -0.676955   \n",
       "Kurtosis        3.439174      4.349340     4.037773    4.322428   7.643459   \n",
       "VaR             0.053060      0.046717     0.052755    0.061150   0.054953   \n",
       "annu. return    0.034619      0.061776     0.172327    0.139704   0.123560   \n",
       "\n",
       "              US Min Vol   US Value  \n",
       "count          89.000000  89.000000  \n",
       "mean            0.010156   0.008362  \n",
       "std             0.032169   0.047238  \n",
       "min            -0.113379  -0.183625  \n",
       "25%            -0.004941  -0.011091  \n",
       "50%             0.012605   0.012419  \n",
       "75%             0.030596   0.034136  \n",
       "max             0.093686   0.164269  \n",
       "Sharpe ratio    0.297357   0.164505  \n",
       "Skewness       -0.805963  -0.610647  \n",
       "Kurtosis        5.425457   6.565718  \n",
       "VaR             0.041739   0.075688  \n",
       "annu. return    0.122014   0.090412  "
      ]
     },
     "execution_count": 74,
     "metadata": {},
     "output_type": "execute_result"
    }
   ],
   "source": [
    "factor_des = get_descriptive(factor, l, func_name)\n",
    "factor_des.columns = fac_col\n",
    "factor_des"
   ]
  },
  {
   "cell_type": "code",
   "execution_count": 75,
   "metadata": {},
   "outputs": [
    {
     "data": {
      "image/png": "[encoded data removed]",
      "text/plain": [
       "<Figure size 432x288 with 1 Axes>"
      ]
     },
     "metadata": {
      "needs_background": "light"
     },
     "output_type": "display_data"
    },
    {
     "data": {
      "image/png": "[encoded data removed]",
      "text/plain": [
       "<Figure size 432x288 with 1 Axes>"
      ]
     },
     "metadata": {
      "needs_background": "light"
     },
     "output_type": "display_data"
    },
    {
     "data": {
      "image/png": "[encoded data removed]",
      "text/plain": [
       "<Figure size 432x288 with 1 Axes>"
      ]
     },
     "metadata": {
      "needs_background": "light"
     },
     "output_type": "display_data"
    },
    {
     "data": {
      "image/png": "[encoded data removed]",
      "text/plain": [
       "<Figure size 432x288 with 1 Axes>"
      ]
     },
     "metadata": {
      "needs_background": "light"
     },
     "output_type": "display_data"
    },
    {
     "data": {
      "image/png": "[encoded data removed]",
      "text/plain": [
       "<Figure size 432x288 with 1 Axes>"
      ]
     },
     "metadata": {
      "needs_background": "light"
     },
     "output_type": "display_data"
    }
   ],
   "source": [
    "for i in range(0, len(l)):\n",
    "    plt.figure()\n",
    "    cri = l[i]\n",
    "    plt.bar(factor_des.columns, factor_des.loc[cri])\n",
    "    plt.title(f'{cri}')\n",
    "    plt.xticks(rotation='vertical')"
   ]
  },
  {
   "cell_type": "code",
   "execution_count": 76,
   "metadata": {},
   "outputs": [],
   "source": [
    "# create correlation matrix\n",
    "def corr_map (df, fig=(10, 8), tittle='Pearson Correlation Matrix'):\n",
    "    mask = np.zeros_like(df[df.columns].corr(), dtype=np.bool)\n",
    "    mask[np.triu_indices_from(mask)] = True\n",
    "    f, ax = plt.subplots(figsize=fig)\n",
    "    plt.title(tittle,fontsize=23)\n",
    "    sns.heatmap(df[df.columns].corr(),linewidths=0.25, vmax=1.0, square=True, cmap=\"BuGn\",\n",
    "                linecolor='w', annot=True, mask=mask, cbar_kws={\"shrink\": .75})\n",
    "    plt.savefig(f'{path}{tittle}')\n",
    "    return f.tight_layout()"
   ]
  },
  {
   "cell_type": "code",
   "execution_count": 77,
   "metadata": {},
   "outputs": [],
   "source": [
    "def merging_df (df1, df2):\n",
    "    res = pd.merge(df1, df2, how='left', left_index=True, right_index=True)\n",
    "    return res"
   ]
  },
  {
   "cell_type": "markdown",
   "metadata": {},
   "source": [
    "---"
   ]
  },
  {
   "cell_type": "code",
   "execution_count": 78,
   "metadata": {},
   "outputs": [
    {
     "data": {
      "image/png": "[encoded data removed]",
      "text/plain": [
       "<Figure size 720x576 with 2 Axes>"
      ]
     },
     "metadata": {
      "needs_background": "light"
     },
     "output_type": "display_data"
    }
   ],
   "source": [
    "ind_sp500 = merging_df(ind, market_rf['sp500'])\n",
    "ind_corr = corr_map(ind_sp500, tittle=\"Sector ETFs and S&P500 correlation\")\n",
    "ind_corr"
   ]
  },
  {
   "cell_type": "markdown",
   "metadata": {},
   "source": [
    "The obvious observation from the correlation map above is that there were substantively positive correlations between S&P500 and sector ETFs (mostly around 0.6 to 0.8), except Utilities with 0.16. The highly correlated returns would potentially reduce the benefit of diversification across industries - especially when the market index performed poorly, which was the uttermost important element in considering this approach. Moreover, two highest correlations were detected between Industrials and Financials (0.96), trailed by Technology and Consumer (0.95). In contrast, Utilities and Financial Services had the lowest correlation (0.014), followed by Utilities and Materials (0.09)."
   ]
  },
  {
   "cell_type": "markdown",
   "metadata": {},
   "source": [
    "---"
   ]
  },
  {
   "cell_type": "code",
   "execution_count": 92,
   "metadata": {},
   "outputs": [
    {
     "data": {
      "image/png": "[encoded data removed]",
      "text/plain": [
       "<Figure size 576x432 with 2 Axes>"
      ]
     },
     "metadata": {
      "needs_background": "light"
     },
     "output_type": "display_data"
    }
   ],
   "source": [
    "fac_sp500 = merging_df(factor, market_rf['sp500'])\n",
    "fac_corr = corr_map(fac_sp500, fig=(8,6), tittle=\"Factor ETFs and S&P500 correlation\")\n",
    "fac_corr"
   ]
  },
  {
   "cell_type": "markdown",
   "metadata": {},
   "source": [
    "All factor ETFs seemed to closely move with the S&P500 index (predominantly over 0.9), closely reached 1 for Quality and Size ETFs. Furthermore, correlations among factor ETFs also exhibited more homogeneous than that of sector ETFs. The lowest correlation was between the US Momentum ETF and the EM Min Vol (0.65), while the highest value (0.95) belonged to two pairs, specifically between the US Size ETF and the US Quality ETF, and the US Size ETF with the US Value ETF. Since the primary objective of these smart betas was to exploit mispricing that potentially appeared in the market, diversification benefit was understandably neglected."
   ]
  },
  {
   "cell_type": "code",
   "execution_count": 91,
   "metadata": {},
   "outputs": [
    {
     "data": {
      "text/plain": [
       "{'EEMV': 'EM Min Vol',\n",
       " 'EFAV': 'EAFE Min Vol',\n",
       " 'MTUM': 'US Momentum',\n",
       " 'QUAL': 'US Quality',\n",
       " 'SIZE': 'US Size',\n",
       " 'USMV': 'US Min Vol',\n",
       " 'VLUE': 'US Value'}"
      ]
     },
     "execution_count": 91,
     "metadata": {},
     "output_type": "execute_result"
    }
   ],
   "source": [
    "fac_name"
   ]
  },
  {
   "cell_type": "markdown",
   "metadata": {},
   "source": []
  }
 ],
 "metadata": {
  "kernelspec": {
   "display_name": "Python 3",
   "language": "python",
   "name": "python3"
  },
  "language_info": {
   "codemirror_mode": {
    "name": "ipython",
    "version": 3
   },
   "file_extension": ".py",
   "mimetype": "text/x-python",
   "name": "python",
   "nbconvert_exporter": "python",
   "pygments_lexer": "ipython3",
   "version": "3.6.12"
  }
 },
 "nbformat": 4,
 "nbformat_minor": 2
}
