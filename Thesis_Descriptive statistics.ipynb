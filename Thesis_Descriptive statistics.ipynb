{
 "cells": [
  {
   "cell_type": "markdown",
   "metadata": {},
   "source": [
    "Read necessary libraries "
   ]
  },
  {
   "cell_type": "code",
   "execution_count": 1,
   "metadata": {},
   "outputs": [],
   "source": [
    "from matplotlib import pyplot as plt, rcParams, animation\n",
    "import scipy, seaborn as sns, matplotlib\n",
    "from scipy.cluster import hierarchy as hc\n",
    "matplotlib.rc('animation', html='html5')\n",
    "import numpy as np\n",
    "import pandas as pd\n",
    "import matplotlib.pyplot as plt\n",
    "%matplotlib inline\n",
    "%load_ext autoreload\n",
    "%autoreload 2\n",
    "np.set_printoptions(precision=5, linewidth=110, suppress=True)\n",
    "import seaborn as sns\n",
    "import warnings\n",
    "warnings.filterwarnings(\"ignore\")\n",
    "\n",
    "import ben"
   ]
  },
  {
   "cell_type": "code",
   "execution_count": 2,
   "metadata": {},
   "outputs": [],
   "source": [
    "path = 'data/thesis/'"
   ]
  },
  {
   "cell_type": "markdown",
   "metadata": {},
   "source": [
    "### I. Data"
   ]
  },
  {
   "cell_type": "markdown",
   "metadata": {},
   "source": [
    "1. 12 industry ETFs, each industry ETF is a column in a dataframe called \"ind\", these ETFs are designed by BlackRock\n",
    "2. 07 factor ETFs representing factor investing, each strategy is a column in a dataframe called \"factor\", these ETFs are designed by BlackRock\n",
    "3. S&P500 as market index and risk free rate (T-Bill one-month return) as rf"
   ]
  },
  {
   "cell_type": "code",
   "execution_count": 3,
   "metadata": {},
   "outputs": [
    {
     "data": {
      "text/html": [
       "<div>\n",
       "<style scoped>\n",
       "    .dataframe tbody tr th:only-of-type {\n",
       "        vertical-align: middle;\n",
       "    }\n",
       "\n",
       "    .dataframe tbody tr th {\n",
       "        vertical-align: top;\n",
       "    }\n",
       "\n",
       "    .dataframe thead th {\n",
       "        text-align: right;\n",
       "    }\n",
       "</style>\n",
       "<table border=\"1\" class=\"dataframe\">\n",
       "  <thead>\n",
       "    <tr style=\"text-align: right;\">\n",
       "      <th></th>\n",
       "      <th>IDU</th>\n",
       "      <th>IYC</th>\n",
       "      <th>IYF</th>\n",
       "      <th>IYG</th>\n",
       "      <th>IYH</th>\n",
       "      <th>IYJ</th>\n",
       "      <th>IYK</th>\n",
       "      <th>IYM</th>\n",
       "      <th>IYR</th>\n",
       "      <th>IYT</th>\n",
       "      <th>IYW</th>\n",
       "      <th>IYZ</th>\n",
       "    </tr>\n",
       "    <tr>\n",
       "      <th>Date</th>\n",
       "      <th></th>\n",
       "      <th></th>\n",
       "      <th></th>\n",
       "      <th></th>\n",
       "      <th></th>\n",
       "      <th></th>\n",
       "      <th></th>\n",
       "      <th></th>\n",
       "      <th></th>\n",
       "      <th></th>\n",
       "      <th></th>\n",
       "      <th></th>\n",
       "    </tr>\n",
       "  </thead>\n",
       "  <tbody>\n",
       "    <tr>\n",
       "      <th>2013-08</th>\n",
       "      <td>-0.053026</td>\n",
       "      <td>-0.037844</td>\n",
       "      <td>-0.049613</td>\n",
       "      <td>-0.051423</td>\n",
       "      <td>-0.035187</td>\n",
       "      <td>-0.022068</td>\n",
       "      <td>-0.033417</td>\n",
       "      <td>-0.001690</td>\n",
       "      <td>-0.065325</td>\n",
       "      <td>-0.032828</td>\n",
       "      <td>-0.006214</td>\n",
       "      <td>-0.040458</td>\n",
       "    </tr>\n",
       "    <tr>\n",
       "      <th>2013-09</th>\n",
       "      <td>0.005246</td>\n",
       "      <td>0.054969</td>\n",
       "      <td>0.028347</td>\n",
       "      <td>0.024893</td>\n",
       "      <td>0.028868</td>\n",
       "      <td>0.052925</td>\n",
       "      <td>0.021505</td>\n",
       "      <td>0.043441</td>\n",
       "      <td>0.024904</td>\n",
       "      <td>0.053466</td>\n",
       "      <td>0.026443</td>\n",
       "      <td>0.029104</td>\n",
       "    </tr>\n",
       "  </tbody>\n",
       "</table>\n",
       "</div>"
      ],
      "text/plain": [
       "              IDU       IYC       IYF       IYG       IYH       IYJ       IYK  \\\n",
       "Date                                                                            \n",
       "2013-08 -0.053026 -0.037844 -0.049613 -0.051423 -0.035187 -0.022068 -0.033417   \n",
       "2013-09  0.005246  0.054969  0.028347  0.024893  0.028868  0.052925  0.021505   \n",
       "\n",
       "              IYM       IYR       IYT       IYW       IYZ  \n",
       "Date                                                       \n",
       "2013-08 -0.001690 -0.065325 -0.032828 -0.006214 -0.040458  \n",
       "2013-09  0.043441  0.024904  0.053466  0.026443  0.029104  "
      ]
     },
     "execution_count": 3,
     "metadata": {},
     "output_type": "execute_result"
    }
   ],
   "source": [
    "ind = ben.get_df('sector_return.xlsx', path); ind.head(2)"
   ]
  },
  {
   "cell_type": "code",
   "execution_count": 4,
   "metadata": {},
   "outputs": [
    {
     "data": {
      "text/plain": [
       "(89, 12)"
      ]
     },
     "execution_count": 4,
     "metadata": {},
     "output_type": "execute_result"
    }
   ],
   "source": [
    "ind.shape"
   ]
  },
  {
   "cell_type": "code",
   "execution_count": 5,
   "metadata": {},
   "outputs": [
    {
     "data": {
      "text/html": [
       "<div>\n",
       "<style scoped>\n",
       "    .dataframe tbody tr th:only-of-type {\n",
       "        vertical-align: middle;\n",
       "    }\n",
       "\n",
       "    .dataframe tbody tr th {\n",
       "        vertical-align: top;\n",
       "    }\n",
       "\n",
       "    .dataframe thead th {\n",
       "        text-align: right;\n",
       "    }\n",
       "</style>\n",
       "<table border=\"1\" class=\"dataframe\">\n",
       "  <thead>\n",
       "    <tr style=\"text-align: right;\">\n",
       "      <th></th>\n",
       "      <th>EEMV</th>\n",
       "      <th>EFAV</th>\n",
       "      <th>MTUM</th>\n",
       "      <th>QUAL</th>\n",
       "      <th>SIZE</th>\n",
       "      <th>USMV</th>\n",
       "      <th>VLUE</th>\n",
       "    </tr>\n",
       "    <tr>\n",
       "      <th>Date</th>\n",
       "      <th></th>\n",
       "      <th></th>\n",
       "      <th></th>\n",
       "      <th></th>\n",
       "      <th></th>\n",
       "      <th></th>\n",
       "      <th></th>\n",
       "    </tr>\n",
       "  </thead>\n",
       "  <tbody>\n",
       "    <tr>\n",
       "      <th>2013-08</th>\n",
       "      <td>-0.040745</td>\n",
       "      <td>-0.017007</td>\n",
       "      <td>-0.035704</td>\n",
       "      <td>-0.020750</td>\n",
       "      <td>-0.033024</td>\n",
       "      <td>-0.032573</td>\n",
       "      <td>-0.031201</td>\n",
       "    </tr>\n",
       "    <tr>\n",
       "      <th>2013-09</th>\n",
       "      <td>0.065892</td>\n",
       "      <td>0.054481</td>\n",
       "      <td>0.030237</td>\n",
       "      <td>0.038127</td>\n",
       "      <td>0.031530</td>\n",
       "      <td>0.025530</td>\n",
       "      <td>0.028047</td>\n",
       "    </tr>\n",
       "  </tbody>\n",
       "</table>\n",
       "</div>"
      ],
      "text/plain": [
       "             EEMV      EFAV      MTUM      QUAL      SIZE      USMV      VLUE\n",
       "Date                                                                         \n",
       "2013-08 -0.040745 -0.017007 -0.035704 -0.020750 -0.033024 -0.032573 -0.031201\n",
       "2013-09  0.065892  0.054481  0.030237  0.038127  0.031530  0.025530  0.028047"
      ]
     },
     "execution_count": 5,
     "metadata": {},
     "output_type": "execute_result"
    }
   ],
   "source": [
    "factor = ben.get_df('factor_return.xlsx', path); factor.head(2)"
   ]
  },
  {
   "cell_type": "code",
   "execution_count": 6,
   "metadata": {},
   "outputs": [
    {
     "data": {
      "text/plain": [
       "(89, 7)"
      ]
     },
     "execution_count": 6,
     "metadata": {},
     "output_type": "execute_result"
    }
   ],
   "source": [
    "factor.shape"
   ]
  },
  {
   "cell_type": "code",
   "execution_count": 34,
   "metadata": {},
   "outputs": [
    {
     "data": {
      "text/html": [
       "<div>\n",
       "<style scoped>\n",
       "    .dataframe tbody tr th:only-of-type {\n",
       "        vertical-align: middle;\n",
       "    }\n",
       "\n",
       "    .dataframe tbody tr th {\n",
       "        vertical-align: top;\n",
       "    }\n",
       "\n",
       "    .dataframe thead th {\n",
       "        text-align: right;\n",
       "    }\n",
       "</style>\n",
       "<table border=\"1\" class=\"dataframe\">\n",
       "  <thead>\n",
       "    <tr style=\"text-align: right;\">\n",
       "      <th></th>\n",
       "      <th>rf</th>\n",
       "      <th>sp500</th>\n",
       "    </tr>\n",
       "    <tr>\n",
       "      <th>Date</th>\n",
       "      <th></th>\n",
       "      <th></th>\n",
       "    </tr>\n",
       "  </thead>\n",
       "  <tbody>\n",
       "    <tr>\n",
       "      <th>2013-08</th>\n",
       "      <td>0.000009</td>\n",
       "      <td>-0.031298</td>\n",
       "    </tr>\n",
       "    <tr>\n",
       "      <th>2013-09</th>\n",
       "      <td>0.000008</td>\n",
       "      <td>0.029749</td>\n",
       "    </tr>\n",
       "  </tbody>\n",
       "</table>\n",
       "</div>"
      ],
      "text/plain": [
       "               rf     sp500\n",
       "Date                       \n",
       "2013-08  0.000009 -0.031298\n",
       "2013-09  0.000008  0.029749"
      ]
     },
     "execution_count": 34,
     "metadata": {},
     "output_type": "execute_result"
    }
   ],
   "source": [
    "market_rf = ben.get_df_excel('sp500.xlsx', path); market_rf.head(2)\n",
    "market_rf.columns = ['rf','sp500']\n",
    "market_rf.head(2)"
   ]
  },
  {
   "cell_type": "code",
   "execution_count": 8,
   "metadata": {},
   "outputs": [
    {
     "data": {
      "text/plain": [
       "(89, 2)"
      ]
     },
     "execution_count": 8,
     "metadata": {},
     "output_type": "execute_result"
    }
   ],
   "source": [
    "market_rf.shape"
   ]
  },
  {
   "cell_type": "code",
   "execution_count": 9,
   "metadata": {},
   "outputs": [
    {
     "data": {
      "text/plain": [
       "(0.009845607748314607, 0.04023132413238701)"
      ]
     },
     "execution_count": 9,
     "metadata": {},
     "output_type": "execute_result"
    }
   ],
   "source": [
    "mar_ret = market_rf['Market return'].mean()\n",
    "mar_vol = market_rf['Market return'].std()\n",
    "market = (mar_ret, mar_vol)\n",
    "market"
   ]
  },
  {
   "cell_type": "code",
   "execution_count": 10,
   "metadata": {},
   "outputs": [
    {
     "data": {
      "text/plain": [
       "0.0005907303370786517"
      ]
     },
     "execution_count": 10,
     "metadata": {},
     "output_type": "execute_result"
    }
   ],
   "source": [
    "rf = market_rf['Risk free'].mean()\n",
    "rf"
   ]
  },
  {
   "cell_type": "markdown",
   "metadata": {},
   "source": [
    "### II. Descriptive statistics"
   ]
  },
  {
   "cell_type": "code",
   "execution_count": 11,
   "metadata": {},
   "outputs": [],
   "source": [
    "l = [\"Sharpe ratio\", \"Skewness\", \"Kurtosis\", \"VaR\", \"annu. return\", \"annu. vol\"]\n",
    "func_name = [ben.sharpe_ratio, ben.get_skewness, ben.get_kurtosis, ben.var_historic, \n",
    "             ben.annualize_ret, ben.annualize_vol]"
   ]
  },
  {
   "cell_type": "code",
   "execution_count": 12,
   "metadata": {},
   "outputs": [],
   "source": [
    "def get_descriptive (df, l, func_name):\n",
    "    des = df.describe()\n",
    "    for i in range(0, len(l)):\n",
    "        row_name = l[i]\n",
    "        func = func_name[i]\n",
    "        if row_name == \"Sharpe ratio\":\n",
    "            row_val = func(df, rf).values\n",
    "        else:\n",
    "            row_val = func(df).values\n",
    "        des.loc[-1] = row_val\n",
    "        des.rename(index={-1: row_name}, inplace=True)\n",
    "    return des"
   ]
  },
  {
   "cell_type": "code",
   "execution_count": null,
   "metadata": {},
   "outputs": [],
   "source": []
  },
  {
   "cell_type": "code",
   "execution_count": 13,
   "metadata": {},
   "outputs": [
    {
     "data": {
      "text/html": [
       "<div>\n",
       "<style scoped>\n",
       "    .dataframe tbody tr th:only-of-type {\n",
       "        vertical-align: middle;\n",
       "    }\n",
       "\n",
       "    .dataframe tbody tr th {\n",
       "        vertical-align: top;\n",
       "    }\n",
       "\n",
       "    .dataframe thead th {\n",
       "        text-align: right;\n",
       "    }\n",
       "</style>\n",
       "<table border=\"1\" class=\"dataframe\">\n",
       "  <thead>\n",
       "    <tr style=\"text-align: right;\">\n",
       "      <th></th>\n",
       "      <th>IDU</th>\n",
       "      <th>IYC</th>\n",
       "      <th>IYF</th>\n",
       "      <th>IYG</th>\n",
       "      <th>IYH</th>\n",
       "      <th>IYJ</th>\n",
       "      <th>IYK</th>\n",
       "      <th>IYM</th>\n",
       "      <th>IYR</th>\n",
       "      <th>IYT</th>\n",
       "      <th>IYW</th>\n",
       "      <th>IYZ</th>\n",
       "    </tr>\n",
       "  </thead>\n",
       "  <tbody>\n",
       "    <tr>\n",
       "      <th>count</th>\n",
       "      <td>89.000000</td>\n",
       "      <td>89.000000</td>\n",
       "      <td>89.000000</td>\n",
       "      <td>89.000000</td>\n",
       "      <td>89.000000</td>\n",
       "      <td>89.000000</td>\n",
       "      <td>89.000000</td>\n",
       "      <td>89.000000</td>\n",
       "      <td>89.000000</td>\n",
       "      <td>89.000000</td>\n",
       "      <td>89.000000</td>\n",
       "      <td>89.000000</td>\n",
       "    </tr>\n",
       "    <tr>\n",
       "      <th>mean</th>\n",
       "      <td>0.000242</td>\n",
       "      <td>0.003190</td>\n",
       "      <td>0.001772</td>\n",
       "      <td>0.009381</td>\n",
       "      <td>0.010140</td>\n",
       "      <td>0.004413</td>\n",
       "      <td>0.008173</td>\n",
       "      <td>0.006772</td>\n",
       "      <td>0.003837</td>\n",
       "      <td>0.008810</td>\n",
       "      <td>0.009179</td>\n",
       "      <td>0.001801</td>\n",
       "    </tr>\n",
       "    <tr>\n",
       "      <th>std</th>\n",
       "      <td>0.066115</td>\n",
       "      <td>0.092505</td>\n",
       "      <td>0.069744</td>\n",
       "      <td>0.058649</td>\n",
       "      <td>0.040766</td>\n",
       "      <td>0.072140</td>\n",
       "      <td>0.041077</td>\n",
       "      <td>0.055106</td>\n",
       "      <td>0.044371</td>\n",
       "      <td>0.054617</td>\n",
       "      <td>0.094143</td>\n",
       "      <td>0.043159</td>\n",
       "    </tr>\n",
       "    <tr>\n",
       "      <th>min</th>\n",
       "      <td>-0.500868</td>\n",
       "      <td>-0.742240</td>\n",
       "      <td>-0.475615</td>\n",
       "      <td>-0.224605</td>\n",
       "      <td>-0.099103</td>\n",
       "      <td>-0.489512</td>\n",
       "      <td>-0.123958</td>\n",
       "      <td>-0.164818</td>\n",
       "      <td>-0.204005</td>\n",
       "      <td>-0.180762</td>\n",
       "      <td>-0.738336</td>\n",
       "      <td>-0.112183</td>\n",
       "    </tr>\n",
       "    <tr>\n",
       "      <th>25%</th>\n",
       "      <td>-0.019774</td>\n",
       "      <td>-0.012720</td>\n",
       "      <td>-0.021237</td>\n",
       "      <td>-0.020734</td>\n",
       "      <td>-0.009760</td>\n",
       "      <td>-0.020049</td>\n",
       "      <td>-0.015303</td>\n",
       "      <td>-0.022288</td>\n",
       "      <td>-0.016697</td>\n",
       "      <td>-0.011662</td>\n",
       "      <td>-0.017074</td>\n",
       "      <td>-0.025273</td>\n",
       "    </tr>\n",
       "    <tr>\n",
       "      <th>50%</th>\n",
       "      <td>0.012605</td>\n",
       "      <td>0.010803</td>\n",
       "      <td>0.017944</td>\n",
       "      <td>0.021254</td>\n",
       "      <td>0.010405</td>\n",
       "      <td>0.009759</td>\n",
       "      <td>0.006491</td>\n",
       "      <td>0.007687</td>\n",
       "      <td>0.005065</td>\n",
       "      <td>0.011699</td>\n",
       "      <td>0.021401</td>\n",
       "      <td>0.000310</td>\n",
       "    </tr>\n",
       "    <tr>\n",
       "      <th>75%</th>\n",
       "      <td>0.032318</td>\n",
       "      <td>0.034728</td>\n",
       "      <td>0.033936</td>\n",
       "      <td>0.038968</td>\n",
       "      <td>0.037505</td>\n",
       "      <td>0.035959</td>\n",
       "      <td>0.027978</td>\n",
       "      <td>0.035130</td>\n",
       "      <td>0.029183</td>\n",
       "      <td>0.041493</td>\n",
       "      <td>0.047152</td>\n",
       "      <td>0.027958</td>\n",
       "    </tr>\n",
       "    <tr>\n",
       "      <th>max</th>\n",
       "      <td>0.084260</td>\n",
       "      <td>0.155848</td>\n",
       "      <td>0.146394</td>\n",
       "      <td>0.177839</td>\n",
       "      <td>0.129286</td>\n",
       "      <td>0.156714</td>\n",
       "      <td>0.127564</td>\n",
       "      <td>0.171214</td>\n",
       "      <td>0.114758</td>\n",
       "      <td>0.118417</td>\n",
       "      <td>0.146240</td>\n",
       "      <td>0.119835</td>\n",
       "    </tr>\n",
       "    <tr>\n",
       "      <th>Sharpe ratio</th>\n",
       "      <td>-0.141431</td>\n",
       "      <td>-0.177426</td>\n",
       "      <td>-0.066634</td>\n",
       "      <td>0.467423</td>\n",
       "      <td>0.829107</td>\n",
       "      <td>0.051604</td>\n",
       "      <td>0.640175</td>\n",
       "      <td>0.337966</td>\n",
       "      <td>0.220628</td>\n",
       "      <td>0.478591</td>\n",
       "      <td>0.038311</td>\n",
       "      <td>0.067455</td>\n",
       "    </tr>\n",
       "    <tr>\n",
       "      <th>Skewness</th>\n",
       "      <td>-5.012742</td>\n",
       "      <td>-5.924199</td>\n",
       "      <td>-3.884567</td>\n",
       "      <td>-0.655885</td>\n",
       "      <td>-0.263935</td>\n",
       "      <td>-3.725537</td>\n",
       "      <td>-0.090281</td>\n",
       "      <td>-0.009428</td>\n",
       "      <td>-0.984885</td>\n",
       "      <td>-0.759845</td>\n",
       "      <td>-5.661164</td>\n",
       "      <td>0.237314</td>\n",
       "    </tr>\n",
       "    <tr>\n",
       "      <th>Kurtosis</th>\n",
       "      <td>38.276162</td>\n",
       "      <td>48.765834</td>\n",
       "      <td>26.777055</td>\n",
       "      <td>5.468435</td>\n",
       "      <td>3.384529</td>\n",
       "      <td>26.423327</td>\n",
       "      <td>4.497131</td>\n",
       "      <td>4.039391</td>\n",
       "      <td>7.433235</td>\n",
       "      <td>4.430607</td>\n",
       "      <td>45.906590</td>\n",
       "      <td>3.193619</td>\n",
       "    </tr>\n",
       "    <tr>\n",
       "      <th>VaR</th>\n",
       "      <td>0.067959</td>\n",
       "      <td>0.075277</td>\n",
       "      <td>0.075421</td>\n",
       "      <td>0.085825</td>\n",
       "      <td>0.067385</td>\n",
       "      <td>0.079737</td>\n",
       "      <td>0.060723</td>\n",
       "      <td>0.084630</td>\n",
       "      <td>0.066074</td>\n",
       "      <td>0.092345</td>\n",
       "      <td>0.074876</td>\n",
       "      <td>0.063923</td>\n",
       "    </tr>\n",
       "    <tr>\n",
       "      <th>annu. return</th>\n",
       "      <td>-0.031817</td>\n",
       "      <td>-0.056286</td>\n",
       "      <td>-0.015514</td>\n",
       "      <td>0.095608</td>\n",
       "      <td>0.117737</td>\n",
       "      <td>0.013496</td>\n",
       "      <td>0.091735</td>\n",
       "      <td>0.065141</td>\n",
       "      <td>0.034522</td>\n",
       "      <td>0.091190</td>\n",
       "      <td>0.013102</td>\n",
       "      <td>0.010682</td>\n",
       "    </tr>\n",
       "    <tr>\n",
       "      <th>annu. vol</th>\n",
       "      <td>0.229030</td>\n",
       "      <td>0.320448</td>\n",
       "      <td>0.241601</td>\n",
       "      <td>0.203168</td>\n",
       "      <td>0.141216</td>\n",
       "      <td>0.249899</td>\n",
       "      <td>0.142296</td>\n",
       "      <td>0.190892</td>\n",
       "      <td>0.153706</td>\n",
       "      <td>0.189199</td>\n",
       "      <td>0.326121</td>\n",
       "      <td>0.149508</td>\n",
       "    </tr>\n",
       "  </tbody>\n",
       "</table>\n",
       "</div>"
      ],
      "text/plain": [
       "                    IDU        IYC        IYF        IYG        IYH  \\\n",
       "count         89.000000  89.000000  89.000000  89.000000  89.000000   \n",
       "mean           0.000242   0.003190   0.001772   0.009381   0.010140   \n",
       "std            0.066115   0.092505   0.069744   0.058649   0.040766   \n",
       "min           -0.500868  -0.742240  -0.475615  -0.224605  -0.099103   \n",
       "25%           -0.019774  -0.012720  -0.021237  -0.020734  -0.009760   \n",
       "50%            0.012605   0.010803   0.017944   0.021254   0.010405   \n",
       "75%            0.032318   0.034728   0.033936   0.038968   0.037505   \n",
       "max            0.084260   0.155848   0.146394   0.177839   0.129286   \n",
       "Sharpe ratio  -0.141431  -0.177426  -0.066634   0.467423   0.829107   \n",
       "Skewness      -5.012742  -5.924199  -3.884567  -0.655885  -0.263935   \n",
       "Kurtosis      38.276162  48.765834  26.777055   5.468435   3.384529   \n",
       "VaR            0.067959   0.075277   0.075421   0.085825   0.067385   \n",
       "annu. return  -0.031817  -0.056286  -0.015514   0.095608   0.117737   \n",
       "annu. vol      0.229030   0.320448   0.241601   0.203168   0.141216   \n",
       "\n",
       "                    IYJ        IYK        IYM        IYR        IYT  \\\n",
       "count         89.000000  89.000000  89.000000  89.000000  89.000000   \n",
       "mean           0.004413   0.008173   0.006772   0.003837   0.008810   \n",
       "std            0.072140   0.041077   0.055106   0.044371   0.054617   \n",
       "min           -0.489512  -0.123958  -0.164818  -0.204005  -0.180762   \n",
       "25%           -0.020049  -0.015303  -0.022288  -0.016697  -0.011662   \n",
       "50%            0.009759   0.006491   0.007687   0.005065   0.011699   \n",
       "75%            0.035959   0.027978   0.035130   0.029183   0.041493   \n",
       "max            0.156714   0.127564   0.171214   0.114758   0.118417   \n",
       "Sharpe ratio   0.051604   0.640175   0.337966   0.220628   0.478591   \n",
       "Skewness      -3.725537  -0.090281  -0.009428  -0.984885  -0.759845   \n",
       "Kurtosis      26.423327   4.497131   4.039391   7.433235   4.430607   \n",
       "VaR            0.079737   0.060723   0.084630   0.066074   0.092345   \n",
       "annu. return   0.013496   0.091735   0.065141   0.034522   0.091190   \n",
       "annu. vol      0.249899   0.142296   0.190892   0.153706   0.189199   \n",
       "\n",
       "                    IYW        IYZ  \n",
       "count         89.000000  89.000000  \n",
       "mean           0.009179   0.001801  \n",
       "std            0.094143   0.043159  \n",
       "min           -0.738336  -0.112183  \n",
       "25%           -0.017074  -0.025273  \n",
       "50%            0.021401   0.000310  \n",
       "75%            0.047152   0.027958  \n",
       "max            0.146240   0.119835  \n",
       "Sharpe ratio   0.038311   0.067455  \n",
       "Skewness      -5.661164   0.237314  \n",
       "Kurtosis      45.906590   3.193619  \n",
       "VaR            0.074876   0.063923  \n",
       "annu. return   0.013102   0.010682  \n",
       "annu. vol      0.326121   0.149508  "
      ]
     },
     "execution_count": 13,
     "metadata": {},
     "output_type": "execute_result"
    }
   ],
   "source": [
    "ind_des = get_descriptive(ind, l, func_name)\n",
    "ind_des"
   ]
  },
  {
   "cell_type": "code",
   "execution_count": 14,
   "metadata": {},
   "outputs": [],
   "source": [
    "ind_des.to_excel(f'{path}industry_descriptive.xlsx') # export to excel"
   ]
  },
  {
   "cell_type": "code",
   "execution_count": 15,
   "metadata": {},
   "outputs": [],
   "source": [
    "ind_des.to_latex(f'{path}ind_des.tex')"
   ]
  },
  {
   "cell_type": "code",
   "execution_count": 27,
   "metadata": {},
   "outputs": [
    {
     "data": {
      "image/png": "[encoded data removed]",
      "text/plain": [
       "<Figure size 432x288 with 1 Axes>"
      ]
     },
     "metadata": {
      "needs_background": "light"
     },
     "output_type": "display_data"
    },
    {
     "data": {
      "image/png": "[encoded data removed]",
      "text/plain": [
       "<Figure size 432x288 with 1 Axes>"
      ]
     },
     "metadata": {
      "needs_background": "light"
     },
     "output_type": "display_data"
    },
    {
     "data": {
      "image/png": "[encoded data removed]",
      "text/plain": [
       "<Figure size 432x288 with 1 Axes>"
      ]
     },
     "metadata": {
      "needs_background": "light"
     },
     "output_type": "display_data"
    },
    {
     "data": {
      "image/png": "[encoded data removed]",
      "text/plain": [
       "<Figure size 432x288 with 1 Axes>"
      ]
     },
     "metadata": {
      "needs_background": "light"
     },
     "output_type": "display_data"
    },
    {
     "data": {
      "image/png": "[encoded data removed]",
      "text/plain": [
       "<Figure size 432x288 with 1 Axes>"
      ]
     },
     "metadata": {
      "needs_background": "light"
     },
     "output_type": "display_data"
    },
    {
     "data": {
      "image/png": "[encoded data removed]",
      "text/plain": [
       "<Figure size 432x288 with 1 Axes>"
      ]
     },
     "metadata": {
      "needs_background": "light"
     },
     "output_type": "display_data"
    }
   ],
   "source": [
    "for i in range(0, len(l)):\n",
    "    plt.figure()\n",
    "    cri = l[i]\n",
    "    plt.bar(ind_des.columns,ind_des.loc[cri])\n",
    "    plt.title(f'{cri}')"
   ]
  },
  {
   "cell_type": "code",
   "execution_count": 16,
   "metadata": {},
   "outputs": [
    {
     "data": {
      "text/html": [
       "<div>\n",
       "<style scoped>\n",
       "    .dataframe tbody tr th:only-of-type {\n",
       "        vertical-align: middle;\n",
       "    }\n",
       "\n",
       "    .dataframe tbody tr th {\n",
       "        vertical-align: top;\n",
       "    }\n",
       "\n",
       "    .dataframe thead th {\n",
       "        text-align: right;\n",
       "    }\n",
       "</style>\n",
       "<table border=\"1\" class=\"dataframe\">\n",
       "  <thead>\n",
       "    <tr style=\"text-align: right;\">\n",
       "      <th></th>\n",
       "      <th>EEMV</th>\n",
       "      <th>EFAV</th>\n",
       "      <th>MTUM</th>\n",
       "      <th>QUAL</th>\n",
       "      <th>SIZE</th>\n",
       "      <th>USMV</th>\n",
       "      <th>VLUE</th>\n",
       "    </tr>\n",
       "  </thead>\n",
       "  <tbody>\n",
       "    <tr>\n",
       "      <th>count</th>\n",
       "      <td>89.000000</td>\n",
       "      <td>89.000000</td>\n",
       "      <td>89.000000</td>\n",
       "      <td>89.000000</td>\n",
       "      <td>89.000000</td>\n",
       "      <td>89.000000</td>\n",
       "      <td>89.000000</td>\n",
       "    </tr>\n",
       "    <tr>\n",
       "      <th>mean</th>\n",
       "      <td>0.003573</td>\n",
       "      <td>0.005456</td>\n",
       "      <td>0.014154</td>\n",
       "      <td>0.011736</td>\n",
       "      <td>0.010718</td>\n",
       "      <td>0.010156</td>\n",
       "      <td>0.008362</td>\n",
       "    </tr>\n",
       "    <tr>\n",
       "      <th>std</th>\n",
       "      <td>0.038336</td>\n",
       "      <td>0.029994</td>\n",
       "      <td>0.040643</td>\n",
       "      <td>0.039724</td>\n",
       "      <td>0.043765</td>\n",
       "      <td>0.032169</td>\n",
       "      <td>0.047238</td>\n",
       "    </tr>\n",
       "    <tr>\n",
       "      <th>min</th>\n",
       "      <td>-0.120690</td>\n",
       "      <td>-0.098373</td>\n",
       "      <td>-0.115587</td>\n",
       "      <td>-0.114189</td>\n",
       "      <td>-0.182781</td>\n",
       "      <td>-0.113379</td>\n",
       "      <td>-0.183625</td>\n",
       "    </tr>\n",
       "    <tr>\n",
       "      <th>25%</th>\n",
       "      <td>-0.020833</td>\n",
       "      <td>-0.009781</td>\n",
       "      <td>-0.009944</td>\n",
       "      <td>-0.007563</td>\n",
       "      <td>-0.006475</td>\n",
       "      <td>-0.004941</td>\n",
       "      <td>-0.011091</td>\n",
       "    </tr>\n",
       "    <tr>\n",
       "      <th>50%</th>\n",
       "      <td>0.008851</td>\n",
       "      <td>0.008436</td>\n",
       "      <td>0.017960</td>\n",
       "      <td>0.010710</td>\n",
       "      <td>0.013109</td>\n",
       "      <td>0.012605</td>\n",
       "      <td>0.012419</td>\n",
       "    </tr>\n",
       "    <tr>\n",
       "      <th>75%</th>\n",
       "      <td>0.029075</td>\n",
       "      <td>0.024261</td>\n",
       "      <td>0.037432</td>\n",
       "      <td>0.036972</td>\n",
       "      <td>0.034141</td>\n",
       "      <td>0.030596</td>\n",
       "      <td>0.034136</td>\n",
       "    </tr>\n",
       "    <tr>\n",
       "      <th>max</th>\n",
       "      <td>0.092282</td>\n",
       "      <td>0.087952</td>\n",
       "      <td>0.117017</td>\n",
       "      <td>0.122779</td>\n",
       "      <td>0.143132</td>\n",
       "      <td>0.093686</td>\n",
       "      <td>0.164269</td>\n",
       "    </tr>\n",
       "    <tr>\n",
       "      <th>Sharpe ratio</th>\n",
       "      <td>0.256091</td>\n",
       "      <td>0.588553</td>\n",
       "      <td>1.219120</td>\n",
       "      <td>1.010397</td>\n",
       "      <td>0.810668</td>\n",
       "      <td>1.089034</td>\n",
       "      <td>0.548606</td>\n",
       "    </tr>\n",
       "    <tr>\n",
       "      <th>Skewness</th>\n",
       "      <td>-0.399998</td>\n",
       "      <td>-0.568746</td>\n",
       "      <td>-0.413289</td>\n",
       "      <td>-0.287832</td>\n",
       "      <td>-0.676955</td>\n",
       "      <td>-0.805963</td>\n",
       "      <td>-0.610647</td>\n",
       "    </tr>\n",
       "    <tr>\n",
       "      <th>Kurtosis</th>\n",
       "      <td>3.439174</td>\n",
       "      <td>4.349340</td>\n",
       "      <td>4.037773</td>\n",
       "      <td>4.322428</td>\n",
       "      <td>7.643459</td>\n",
       "      <td>5.425457</td>\n",
       "      <td>6.565718</td>\n",
       "    </tr>\n",
       "    <tr>\n",
       "      <th>VaR</th>\n",
       "      <td>0.053060</td>\n",
       "      <td>0.046717</td>\n",
       "      <td>0.052755</td>\n",
       "      <td>0.061150</td>\n",
       "      <td>0.054953</td>\n",
       "      <td>0.041739</td>\n",
       "      <td>0.075688</td>\n",
       "    </tr>\n",
       "    <tr>\n",
       "      <th>annu. return</th>\n",
       "      <td>0.034619</td>\n",
       "      <td>0.061776</td>\n",
       "      <td>0.172327</td>\n",
       "      <td>0.139704</td>\n",
       "      <td>0.123560</td>\n",
       "      <td>0.122014</td>\n",
       "      <td>0.090412</td>\n",
       "    </tr>\n",
       "    <tr>\n",
       "      <th>annu. vol</th>\n",
       "      <td>0.132801</td>\n",
       "      <td>0.103902</td>\n",
       "      <td>0.140793</td>\n",
       "      <td>0.137607</td>\n",
       "      <td>0.151606</td>\n",
       "      <td>0.111436</td>\n",
       "      <td>0.163637</td>\n",
       "    </tr>\n",
       "  </tbody>\n",
       "</table>\n",
       "</div>"
      ],
      "text/plain": [
       "                   EEMV       EFAV       MTUM       QUAL       SIZE  \\\n",
       "count         89.000000  89.000000  89.000000  89.000000  89.000000   \n",
       "mean           0.003573   0.005456   0.014154   0.011736   0.010718   \n",
       "std            0.038336   0.029994   0.040643   0.039724   0.043765   \n",
       "min           -0.120690  -0.098373  -0.115587  -0.114189  -0.182781   \n",
       "25%           -0.020833  -0.009781  -0.009944  -0.007563  -0.006475   \n",
       "50%            0.008851   0.008436   0.017960   0.010710   0.013109   \n",
       "75%            0.029075   0.024261   0.037432   0.036972   0.034141   \n",
       "max            0.092282   0.087952   0.117017   0.122779   0.143132   \n",
       "Sharpe ratio   0.256091   0.588553   1.219120   1.010397   0.810668   \n",
       "Skewness      -0.399998  -0.568746  -0.413289  -0.287832  -0.676955   \n",
       "Kurtosis       3.439174   4.349340   4.037773   4.322428   7.643459   \n",
       "VaR            0.053060   0.046717   0.052755   0.061150   0.054953   \n",
       "annu. return   0.034619   0.061776   0.172327   0.139704   0.123560   \n",
       "annu. vol      0.132801   0.103902   0.140793   0.137607   0.151606   \n",
       "\n",
       "                   USMV       VLUE  \n",
       "count         89.000000  89.000000  \n",
       "mean           0.010156   0.008362  \n",
       "std            0.032169   0.047238  \n",
       "min           -0.113379  -0.183625  \n",
       "25%           -0.004941  -0.011091  \n",
       "50%            0.012605   0.012419  \n",
       "75%            0.030596   0.034136  \n",
       "max            0.093686   0.164269  \n",
       "Sharpe ratio   1.089034   0.548606  \n",
       "Skewness      -0.805963  -0.610647  \n",
       "Kurtosis       5.425457   6.565718  \n",
       "VaR            0.041739   0.075688  \n",
       "annu. return   0.122014   0.090412  \n",
       "annu. vol      0.111436   0.163637  "
      ]
     },
     "execution_count": 16,
     "metadata": {},
     "output_type": "execute_result"
    }
   ],
   "source": [
    "factor_des = get_descriptive(factor, l, func_name)\n",
    "factor_des"
   ]
  },
  {
   "cell_type": "code",
   "execution_count": 39,
   "metadata": {},
   "outputs": [
    {
     "data": {
      "image/png": "[encoded data removed]",
      "text/plain": [
       "<Figure size 432x288 with 1 Axes>"
      ]
     },
     "metadata": {
      "needs_background": "light"
     },
     "output_type": "display_data"
    },
    {
     "data": {
      "image/png": "[encoded data removed]",
      "text/plain": [
       "<Figure size 432x288 with 1 Axes>"
      ]
     },
     "metadata": {
      "needs_background": "light"
     },
     "output_type": "display_data"
    },
    {
     "data": {
      "image/png": "[encoded data removed]",
      "text/plain": [
       "<Figure size 432x288 with 1 Axes>"
      ]
     },
     "metadata": {
      "needs_background": "light"
     },
     "output_type": "display_data"
    },
    {
     "data": {
      "image/png": "[encoded data removed]",
      "text/plain": [
       "<Figure size 432x288 with 1 Axes>"
      ]
     },
     "metadata": {
      "needs_background": "light"
     },
     "output_type": "display_data"
    },
    {
     "data": {
      "image/png": "[encoded data removed]",
      "text/plain": [
       "<Figure size 432x288 with 1 Axes>"
      ]
     },
     "metadata": {
      "needs_background": "light"
     },
     "output_type": "display_data"
    },
    {
     "data": {
      "image/png": "[encoded data removed]",
      "text/plain": [
       "<Figure size 432x288 with 1 Axes>"
      ]
     },
     "metadata": {
      "needs_background": "light"
     },
     "output_type": "display_data"
    }
   ],
   "source": [
    "for i in range(0, len(l)):\n",
    "    plt.figure()\n",
    "    cri = l[i]\n",
    "    plt.bar(factor_des.columns, factor_des.loc[cri])\n",
    "    plt.title(f'{cri}')"
   ]
  },
  {
   "cell_type": "code",
   "execution_count": null,
   "metadata": {},
   "outputs": [],
   "source": [
    "# create correlation matrix\n",
    "def corr_map (df, fig=(10, 8), tittle='Pearson Correlation Matrix'):\n",
    "    mask = np.zeros_like(df[df.columns].corr(), dtype=np.bool)\n",
    "    mask[np.triu_indices_from(mask)] = True\n",
    "    f, ax = plt.subplots(figsize=fig)\n",
    "    plt.title(tittle,fontsize=23)\n",
    "    sns.heatmap(df[df.columns].corr(),linewidths=0.25, vmax=1.0, square=True, cmap=\"BuGn\",\n",
    "                linecolor='w', annot=True, mask=mask, cbar_kws={\"shrink\": .75})\n",
    "    plt.savefig(f'{path}{tittle}')\n",
    "    return f.tight_layout()"
   ]
  },
  {
   "cell_type": "code",
   "execution_count": null,
   "metadata": {},
   "outputs": [],
   "source": [
    "sec_corr = corr_map(ind, tittle=\"Sector ETFs correlation\")\n",
    "sec_corr"
   ]
  },
  {
   "cell_type": "code",
   "execution_count": null,
   "metadata": {},
   "outputs": [],
   "source": [
    "corr_map(factor, fig=(8,6), tittle=\"Factor ETFs correlation\")"
   ]
  },
  {
   "cell_type": "code",
   "execution_count": null,
   "metadata": {},
   "outputs": [],
   "source": []
  }
 ],
 "metadata": {
  "kernelspec": {
   "display_name": "Python 3",
   "language": "python",
   "name": "python3"
  },
  "language_info": {
   "codemirror_mode": {
    "name": "ipython",
    "version": 3
   },
   "file_extension": ".py",
   "mimetype": "text/x-python",
   "name": "python",
   "nbconvert_exporter": "python",
   "pygments_lexer": "ipython3",
   "version": "3.6.12"
  }
 },
 "nbformat": 4,
 "nbformat_minor": 2
}
